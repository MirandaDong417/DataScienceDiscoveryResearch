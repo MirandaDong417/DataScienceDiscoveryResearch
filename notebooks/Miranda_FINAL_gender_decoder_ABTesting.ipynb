{
 "cells": [
  {
   "cell_type": "code",
   "execution_count": 205,
   "metadata": {},
   "outputs": [],
   "source": [
    "import numpy as np\n",
    "import pandas as pd\n",
    "import re\n",
    "from collections import Counter\n",
    "pd.set_option('display.max_columns', None)\n",
    "import matplotlib.pyplot as plt"
   ]
  },
  {
   "cell_type": "code",
   "execution_count": 2,
   "metadata": {},
   "outputs": [],
   "source": [
    "df = pd.read_excel('/Users/dongxujia/Dropbox/DS-Discovery_GenderDiversity/04_Data/raw/jobads_20152017_applicants.xlsx')"
   ]
  },
  {
   "cell_type": "code",
   "execution_count": 3,
   "metadata": {},
   "outputs": [
    {
     "data": {
      "text/plain": [
       "(6471, 16)"
      ]
     },
     "execution_count": 3,
     "metadata": {},
     "output_type": "execute_result"
    }
   ],
   "source": [
    "df.shape"
   ]
  },
  {
   "cell_type": "code",
   "execution_count": 4,
   "metadata": {},
   "outputs": [
    {
     "data": {
      "text/plain": [
       "Index(['id', 'job_title_original', 'job_requirement_en', 'job_description_en',\n",
       "       'job_category', 'length_requirement', 'length_description',\n",
       "       'job_title_clean', 'job_field', 'job_position', 'job_level', 'job_rank',\n",
       "       'degree_vocational', 'degree_academic', 'total_candidates',\n",
       "       'female_share'],\n",
       "      dtype='object')"
      ]
     },
     "execution_count": 4,
     "metadata": {},
     "output_type": "execute_result"
    }
   ],
   "source": [
    "df.columns"
   ]
  },
  {
   "cell_type": "code",
   "execution_count": 5,
   "metadata": {},
   "outputs": [
    {
     "data": {
      "text/html": [
       "<div>\n",
       "<style scoped>\n",
       "    .dataframe tbody tr th:only-of-type {\n",
       "        vertical-align: middle;\n",
       "    }\n",
       "\n",
       "    .dataframe tbody tr th {\n",
       "        vertical-align: top;\n",
       "    }\n",
       "\n",
       "    .dataframe thead th {\n",
       "        text-align: right;\n",
       "    }\n",
       "</style>\n",
       "<table border=\"1\" class=\"dataframe\">\n",
       "  <thead>\n",
       "    <tr style=\"text-align: right;\">\n",
       "      <th></th>\n",
       "      <th>id</th>\n",
       "      <th>job_title_original</th>\n",
       "      <th>job_requirement_en</th>\n",
       "      <th>job_description_en</th>\n",
       "      <th>job_category</th>\n",
       "      <th>length_requirement</th>\n",
       "      <th>length_description</th>\n",
       "      <th>job_title_clean</th>\n",
       "      <th>job_field</th>\n",
       "      <th>job_position</th>\n",
       "      <th>job_level</th>\n",
       "      <th>job_rank</th>\n",
       "      <th>degree_vocational</th>\n",
       "      <th>degree_academic</th>\n",
       "      <th>total_candidates</th>\n",
       "      <th>female_share</th>\n",
       "    </tr>\n",
       "  </thead>\n",
       "  <tbody>\n",
       "    <tr>\n",
       "      <th>0</th>\n",
       "      <td>9</td>\n",
       "      <td>central sap key user sd for the area plt oe</td>\n",
       "      <td>maintenance and further development of the glo...</td>\n",
       "      <td>maintenance and further development of the glo...</td>\n",
       "      <td>marketing_and_sales</td>\n",
       "      <td>166</td>\n",
       "      <td>166</td>\n",
       "      <td>key user</td>\n",
       "      <td>NaN</td>\n",
       "      <td>NaN</td>\n",
       "      <td>NaN</td>\n",
       "      <td>NaN</td>\n",
       "      <td>0</td>\n",
       "      <td>1</td>\n",
       "      <td>1</td>\n",
       "      <td>0.0</td>\n",
       "    </tr>\n",
       "    <tr>\n",
       "      <th>1</th>\n",
       "      <td>46</td>\n",
       "      <td>system engineer automotive security privacy</td>\n",
       "      <td>university degree in computer science or equi...</td>\n",
       "      <td>university degree in computer science or equi...</td>\n",
       "      <td>engineering</td>\n",
       "      <td>83</td>\n",
       "      <td>83</td>\n",
       "      <td>engineer</td>\n",
       "      <td>system</td>\n",
       "      <td>engineer</td>\n",
       "      <td>NaN</td>\n",
       "      <td>NaN</td>\n",
       "      <td>0</td>\n",
       "      <td>1</td>\n",
       "      <td>1</td>\n",
       "      <td>0.0</td>\n",
       "    </tr>\n",
       "    <tr>\n",
       "      <th>2</th>\n",
       "      <td>1086</td>\n",
       "      <td>lnd_150110_transferstelle pd</td>\n",
       "      <td>development of platform components for adas sy...</td>\n",
       "      <td>development of platform components for adas sy...</td>\n",
       "      <td>engineering</td>\n",
       "      <td>250</td>\n",
       "      <td>250</td>\n",
       "      <td>missing</td>\n",
       "      <td>NaN</td>\n",
       "      <td>NaN</td>\n",
       "      <td>NaN</td>\n",
       "      <td>NaN</td>\n",
       "      <td>0</td>\n",
       "      <td>1</td>\n",
       "      <td>1</td>\n",
       "      <td>1.0</td>\n",
       "    </tr>\n",
       "    <tr>\n",
       "      <th>3</th>\n",
       "      <td>1663</td>\n",
       "      <td>logistic</td>\n",
       "      <td>logistic development and implementation of the...</td>\n",
       "      <td>logistic development and implementation of the...</td>\n",
       "      <td>manufacturing_operations_and_production</td>\n",
       "      <td>25</td>\n",
       "      <td>25</td>\n",
       "      <td>missing</td>\n",
       "      <td>NaN</td>\n",
       "      <td>NaN</td>\n",
       "      <td>NaN</td>\n",
       "      <td>NaN</td>\n",
       "      <td>0</td>\n",
       "      <td>0</td>\n",
       "      <td>1</td>\n",
       "      <td>0.0</td>\n",
       "    </tr>\n",
       "    <tr>\n",
       "      <th>4</th>\n",
       "      <td>1733</td>\n",
       "      <td>central key user manufacturing controlling suite</td>\n",
       "      <td>implement manufacturing accounting standard in...</td>\n",
       "      <td>implement manufacturing accounting standard in...</td>\n",
       "      <td>information_technology</td>\n",
       "      <td>123</td>\n",
       "      <td>123</td>\n",
       "      <td>key user</td>\n",
       "      <td>NaN</td>\n",
       "      <td>NaN</td>\n",
       "      <td>NaN</td>\n",
       "      <td>NaN</td>\n",
       "      <td>0</td>\n",
       "      <td>0</td>\n",
       "      <td>1</td>\n",
       "      <td>0.0</td>\n",
       "    </tr>\n",
       "  </tbody>\n",
       "</table>\n",
       "</div>"
      ],
      "text/plain": [
       "     id                                job_title_original  \\\n",
       "0     9       central sap key user sd for the area plt oe   \n",
       "1    46       system engineer automotive security privacy   \n",
       "2  1086                      lnd_150110_transferstelle pd   \n",
       "3  1663                                          logistic   \n",
       "4  1733  central key user manufacturing controlling suite   \n",
       "\n",
       "                                  job_requirement_en  \\\n",
       "0  maintenance and further development of the glo...   \n",
       "1   university degree in computer science or equi...   \n",
       "2  development of platform components for adas sy...   \n",
       "3  logistic development and implementation of the...   \n",
       "4  implement manufacturing accounting standard in...   \n",
       "\n",
       "                                  job_description_en  \\\n",
       "0  maintenance and further development of the glo...   \n",
       "1   university degree in computer science or equi...   \n",
       "2  development of platform components for adas sy...   \n",
       "3  logistic development and implementation of the...   \n",
       "4  implement manufacturing accounting standard in...   \n",
       "\n",
       "                              job_category  length_requirement  \\\n",
       "0                      marketing_and_sales                 166   \n",
       "1                              engineering                  83   \n",
       "2                              engineering                 250   \n",
       "3  manufacturing_operations_and_production                  25   \n",
       "4                   information_technology                 123   \n",
       "\n",
       "   length_description job_title_clean job_field job_position job_level  \\\n",
       "0                 166        key user       NaN          NaN       NaN   \n",
       "1                  83        engineer    system     engineer       NaN   \n",
       "2                 250         missing       NaN          NaN       NaN   \n",
       "3                  25         missing       NaN          NaN       NaN   \n",
       "4                 123        key user       NaN          NaN       NaN   \n",
       "\n",
       "  job_rank  degree_vocational  degree_academic  total_candidates  female_share  \n",
       "0      NaN                  0                1                 1           0.0  \n",
       "1      NaN                  0                1                 1           0.0  \n",
       "2      NaN                  0                1                 1           1.0  \n",
       "3      NaN                  0                0                 1           0.0  \n",
       "4      NaN                  0                0                 1           0.0  "
      ]
     },
     "execution_count": 5,
     "metadata": {},
     "output_type": "execute_result"
    }
   ],
   "source": [
    "df.head()"
   ]
  },
  {
   "cell_type": "markdown",
   "metadata": {},
   "source": [
    "# genderdecoder "
   ]
  },
  {
   "cell_type": "code",
   "execution_count": 6,
   "metadata": {},
   "outputs": [
    {
     "data": {
      "text/plain": [
       "'/Users/dongxujia/Desktop/Research'"
      ]
     },
     "execution_count": 6,
     "metadata": {},
     "output_type": "execute_result"
    }
   ],
   "source": [
    "import os \n",
    "os.getcwd()"
   ]
  },
  {
   "cell_type": "code",
   "execution_count": 7,
   "metadata": {},
   "outputs": [],
   "source": [
    "import sys\n",
    "sys.path.append('genderDecoder/')\n",
    "sys.path.append('genderDecoder/genderDecoder/')\n",
    "sys.path.append('genderDecoder/genderDecoder/assess')"
   ]
  },
  {
   "cell_type": "code",
   "execution_count": 8,
   "metadata": {},
   "outputs": [],
   "source": [
    "from genderDecoder import assess"
   ]
  },
  {
   "cell_type": "code",
   "execution_count": 9,
   "metadata": {},
   "outputs": [
    {
     "data": {
      "text/plain": [
       "{'result': 'masculine-coded',\n",
       " 'explanation': 'This job ad uses more words that are stereotypically masculine than words that are stereotypically feminine. It risks putting women off applying, but will probably encourage men to apply.',\n",
       " 'masculine_coded_words': ['independent', 'dominant', 'dominant', 'driven'],\n",
       " 'feminine_coded_words': ['interpersonal', 'interpersonal', 'polite']}"
      ]
     },
     "execution_count": 9,
     "metadata": {},
     "output_type": "execute_result"
    }
   ],
   "source": [
    "# example of genderDecoder\n",
    "\n",
    "assess(\"independent strong interpersonal dominant polite driven\")"
   ]
  },
  {
   "cell_type": "code",
   "execution_count": null,
   "metadata": {},
   "outputs": [],
   "source": []
  },
  {
   "cell_type": "code",
   "execution_count": 10,
   "metadata": {},
   "outputs": [],
   "source": [
    "# the original word lists"
   ]
  },
  {
   "cell_type": "code",
   "execution_count": 11,
   "metadata": {},
   "outputs": [],
   "source": [
    "f = open('/Users/dongxujia/Desktop/Research/genderDecoder/genderDecoder/wordlists_v0.py', 'r')"
   ]
  },
  {
   "cell_type": "code",
   "execution_count": 12,
   "metadata": {},
   "outputs": [],
   "source": [
    "a = f.read()"
   ]
  },
  {
   "cell_type": "code",
   "execution_count": 13,
   "metadata": {},
   "outputs": [
    {
     "name": "stdout",
     "output_type": "stream",
     "text": [
      "feminine_coded_words = [\n",
      "    \"agree\",\n",
      "    \"affectionate\",\n",
      "    \"child\",\n",
      "    \"cheer\",\n",
      "    \"collab\",\n",
      "    \"commit\",\n",
      "    \"communal\",\n",
      "    \"compassion\",\n",
      "    \"connect\",\n",
      "    \"considerate\",\n",
      "    \"cooperat\",\n",
      "    \"co-operat\",\n",
      "    \"depend\",\n",
      "    \"emotiona\",\n",
      "    \"empath\",\n",
      "    \"feel\",\n",
      "    \"flatterable\",\n",
      "    \"gentle\",\n",
      "    \"honest\",\n",
      "    \"interpersonal\",\n",
      "    \"interdependen\",\n",
      "    \"interpersona\",\n",
      "    \"inter-personal\",\n",
      "    \"inter-dependen\",\n",
      "    \"inter-persona\",\n",
      "    \"kind\",\n",
      "    \"kinship\",\n",
      "    \"loyal\",\n",
      "    \"modesty\",\n",
      "    \"nag\",\n",
      "    \"nurtur\",\n",
      "    \"pleasant\",\n",
      "    \"polite\",\n",
      "    \"quiet\",\n",
      "    \"respon\",\n",
      "    \"sensitiv\",\n",
      "    \"submissive\",\n",
      "    \"support\",\n",
      "    \"sympath\",\n",
      "    \"tender\",\n",
      "    \"together\",\n",
      "    \"trust\",\n",
      "    \"understand\",\n",
      "    \"warm\",\n",
      "    \"whin\",\n",
      "    \"enthusias\",\n",
      "    \"inclusive\",\n",
      "    \"yield\",\n",
      "    \"shar\"]\n",
      "\n",
      "masculine_coded_words = [\n",
      "    \"active\",\n",
      "    \"adventurous\",\n",
      "    \"aggress\",\n",
      "    \"ambitio\",\n",
      "    \"analy\",\n",
      "    \"assert\",\n",
      "    \"athlet\",\n",
      "    \"autonom\",\n",
      "    \"battle\",\n",
      "    \"boast\",\n",
      "    \"challeng\",\n",
      "    \"champion\",\n",
      "    \"compet\",\n",
      "    \"confident\",\n",
      "    \"courag\",\n",
      "    \"decid\",\n",
      "    \"decision\",\n",
      "    \"decisive\",\n",
      "    \"defend\",\n",
      "    \"determin\",\n",
      "    \"domina\",\n",
      "    \"dominant\",\n",
      "    \"driven\",\n",
      "    \"fearless\",\n",
      "    \"fight\",\n",
      "    \"force\",\n",
      "    \"greedy\",\n",
      "    \"head-strong\",\n",
      "    \"headstrong\",\n",
      "    \"hierarch\",\n",
      "    \"hostil\",\n",
      "    \"implusive\",\n",
      "    \"independen\",\n",
      "    \"individual\",\n",
      "    \"intellect\",\n",
      "    \"lead\",\n",
      "    \"logic\",\n",
      "    \"objective\",\n",
      "    \"opinion\",\n",
      "    \"outspoken\",\n",
      "    \"persist\",\n",
      "    \"principle\",\n",
      "    \"reckless\",\n",
      "    \"self-confiden\",\n",
      "    \"self-relian\",\n",
      "    \"self-sufficien\",\n",
      "    \"selfconfiden\",\n",
      "    \"selfrelian\",\n",
      "    \"selfsufficien\",\n",
      "    \"stubborn\",\n",
      "    \"superior\",\n",
      "    \"unreasonab\"]\n",
      "\n"
     ]
    }
   ],
   "source": [
    "print(a)"
   ]
  },
  {
   "cell_type": "code",
   "execution_count": 14,
   "metadata": {},
   "outputs": [],
   "source": [
    "f.close()"
   ]
  },
  {
   "cell_type": "code",
   "execution_count": 15,
   "metadata": {},
   "outputs": [],
   "source": [
    "feminine_coded_words = [\n",
    "    \"agree\",\n",
    "    \"affectionate\",\n",
    "    \"child\",\n",
    "    \"cheer\",\n",
    "    \"collab\",\n",
    "    \"commit\",\n",
    "    \"communal\",\n",
    "    \"compassion\",\n",
    "    \"connect\",\n",
    "    \"considerate\",\n",
    "    \"cooperat\",\n",
    "    \"co-operat\",\n",
    "    \"depend\",\n",
    "    \"emotiona\",\n",
    "    \"empath\",\n",
    "    \"feel\",\n",
    "    \"flatterable\",\n",
    "    \"gentle\",\n",
    "    \"honest\",\n",
    "    \"interpersonal\",\n",
    "    \"interdependen\",\n",
    "    \"interpersona\",\n",
    "    \"inter-personal\",\n",
    "    \"inter-dependen\",\n",
    "    \"inter-persona\",\n",
    "    \"kind\",\n",
    "    \"kinship\",\n",
    "    \"loyal\",\n",
    "    \"modesty\",\n",
    "    \"nag\",\n",
    "    \"nurtur\",\n",
    "    \"pleasant\",\n",
    "    \"polite\",\n",
    "    \"quiet\",\n",
    "    \"respon\",\n",
    "    \"sensitiv\",\n",
    "    \"submissive\",\n",
    "    \"support\",\n",
    "    \"sympath\",\n",
    "    \"tender\",\n",
    "    \"together\",\n",
    "    \"trust\",\n",
    "    \"understand\",\n",
    "    \"warm\",\n",
    "    \"whin\",\n",
    "    \"enthusias\",\n",
    "    \"inclusive\",\n",
    "    \"yield\",\n",
    "    \"shar\"]"
   ]
  },
  {
   "cell_type": "code",
   "execution_count": 16,
   "metadata": {},
   "outputs": [],
   "source": [
    "masculine_coded_words = [\n",
    "    \"active\",\n",
    "    \"adventurous\",\n",
    "    \"aggress\",\n",
    "    \"ambitio\",\n",
    "    \"analy\",\n",
    "    \"assert\",\n",
    "    \"athlet\",\n",
    "    \"autonom\",\n",
    "    \"battle\",\n",
    "    \"boast\",\n",
    "    \"challeng\",\n",
    "    \"champion\",\n",
    "    \"compet\",\n",
    "    \"confident\",\n",
    "    \"courag\",\n",
    "    \"decid\",\n",
    "    \"decision\",\n",
    "    \"decisive\",\n",
    "    \"defend\",\n",
    "    \"determin\",\n",
    "    \"domina\",\n",
    "    \"dominant\",\n",
    "    \"driven\",\n",
    "    \"fearless\",\n",
    "    \"fight\",\n",
    "    \"force\",\n",
    "    \"greedy\",\n",
    "    \"head-strong\",\n",
    "    \"headstrong\",\n",
    "    \"hierarch\",\n",
    "    \"hostil\",\n",
    "    \"implusive\",\n",
    "    \"independen\",\n",
    "    \"individual\",\n",
    "    \"intellect\",\n",
    "    \"lead\",\n",
    "    \"logic\",\n",
    "    \"objective\",\n",
    "    \"opinion\",\n",
    "    \"outspoken\",\n",
    "    \"persist\",\n",
    "    \"principle\",\n",
    "    \"reckless\",\n",
    "    \"self-confiden\",\n",
    "    \"self-relian\",\n",
    "    \"self-sufficien\",\n",
    "    \"selfconfiden\",\n",
    "    \"selfrelian\",\n",
    "    \"selfsufficien\",\n",
    "    \"stubborn\",\n",
    "    \"superior\",\n",
    "    \"unreasonab\"]"
   ]
  },
  {
   "cell_type": "code",
   "execution_count": 17,
   "metadata": {},
   "outputs": [],
   "source": [
    "# some modifications"
   ]
  },
  {
   "cell_type": "code",
   "execution_count": 18,
   "metadata": {},
   "outputs": [],
   "source": [
    "remove_female = [\n",
    "    \"agree\",\n",
    "    \"commit\",\n",
    "    \"feel\",\n",
    "    \"support\",\n",
    "    \"enthusias\",\n",
    "    \"yield\"]"
   ]
  },
  {
   "cell_type": "code",
   "execution_count": 19,
   "metadata": {},
   "outputs": [],
   "source": [
    "add_female = [\n",
    "    \"team\",\n",
    "    \"communicat\",\n",
    "    \"flexib\",\n",
    "    \"team-player\",\n",
    "    \"team-capability\"\n",
    "]"
   ]
  },
  {
   "cell_type": "code",
   "execution_count": 20,
   "metadata": {},
   "outputs": [],
   "source": [
    "remove_male = [\n",
    "    \"unreasonab\"]"
   ]
  },
  {
   "cell_type": "code",
   "execution_count": 21,
   "metadata": {},
   "outputs": [],
   "source": [
    "add_male = [\n",
    "    \"self-driven\",\n",
    "    \"selfdriven\",\n",
    "    \"self-motivated\",\n",
    "    \"selfmotivated\",\n",
    "    \"problem-solving\",\n",
    "    \"mathematical\",\n",
    "    \"leadership\",\n",
    "    \"maintain\",\n",
    "    \"manage\",\n",
    "    \"monitor\",\n",
    "    \"strateg\",\n",
    "    \"travel\",\n",
    "    \"supervis\",\n",
    "    \"proactive\",\n",
    "    \"pressure\"\n",
    "]"
   ]
  },
  {
   "cell_type": "code",
   "execution_count": 22,
   "metadata": {},
   "outputs": [],
   "source": [
    "feminine_coded_words.extend(add_female)"
   ]
  },
  {
   "cell_type": "code",
   "execution_count": 23,
   "metadata": {},
   "outputs": [],
   "source": [
    "for x in remove_female:\n",
    "    feminine_coded_words.remove(x)"
   ]
  },
  {
   "cell_type": "code",
   "execution_count": 24,
   "metadata": {},
   "outputs": [],
   "source": [
    "masculine_coded_words.extend(add_male)"
   ]
  },
  {
   "cell_type": "code",
   "execution_count": 25,
   "metadata": {},
   "outputs": [],
   "source": [
    "for z in remove_male:\n",
    "    masculine_coded_words.remove(z)"
   ]
  },
  {
   "cell_type": "code",
   "execution_count": 26,
   "metadata": {},
   "outputs": [
    {
     "data": {
      "text/plain": [
       "['affectionate',\n",
       " 'child',\n",
       " 'cheer',\n",
       " 'collab',\n",
       " 'communal',\n",
       " 'compassion',\n",
       " 'connect',\n",
       " 'considerate',\n",
       " 'cooperat',\n",
       " 'co-operat',\n",
       " 'depend',\n",
       " 'emotiona',\n",
       " 'empath',\n",
       " 'flatterable',\n",
       " 'gentle',\n",
       " 'honest',\n",
       " 'interpersonal',\n",
       " 'interdependen',\n",
       " 'interpersona',\n",
       " 'inter-personal',\n",
       " 'inter-dependen',\n",
       " 'inter-persona',\n",
       " 'kind',\n",
       " 'kinship',\n",
       " 'loyal',\n",
       " 'modesty',\n",
       " 'nag',\n",
       " 'nurtur',\n",
       " 'pleasant',\n",
       " 'polite',\n",
       " 'quiet',\n",
       " 'respon',\n",
       " 'sensitiv',\n",
       " 'submissive',\n",
       " 'sympath',\n",
       " 'tender',\n",
       " 'together',\n",
       " 'trust',\n",
       " 'understand',\n",
       " 'warm',\n",
       " 'whin',\n",
       " 'inclusive',\n",
       " 'shar',\n",
       " 'team',\n",
       " 'communicat',\n",
       " 'flexib',\n",
       " 'team-player',\n",
       " 'team-capability']"
      ]
     },
     "execution_count": 26,
     "metadata": {},
     "output_type": "execute_result"
    }
   ],
   "source": [
    "feminine_coded_words"
   ]
  },
  {
   "cell_type": "code",
   "execution_count": 27,
   "metadata": {},
   "outputs": [
    {
     "data": {
      "text/plain": [
       "['active',\n",
       " 'adventurous',\n",
       " 'aggress',\n",
       " 'ambitio',\n",
       " 'analy',\n",
       " 'assert',\n",
       " 'athlet',\n",
       " 'autonom',\n",
       " 'battle',\n",
       " 'boast',\n",
       " 'challeng',\n",
       " 'champion',\n",
       " 'compet',\n",
       " 'confident',\n",
       " 'courag',\n",
       " 'decid',\n",
       " 'decision',\n",
       " 'decisive',\n",
       " 'defend',\n",
       " 'determin',\n",
       " 'domina',\n",
       " 'dominant',\n",
       " 'driven',\n",
       " 'fearless',\n",
       " 'fight',\n",
       " 'force',\n",
       " 'greedy',\n",
       " 'head-strong',\n",
       " 'headstrong',\n",
       " 'hierarch',\n",
       " 'hostil',\n",
       " 'implusive',\n",
       " 'independen',\n",
       " 'individual',\n",
       " 'intellect',\n",
       " 'lead',\n",
       " 'logic',\n",
       " 'objective',\n",
       " 'opinion',\n",
       " 'outspoken',\n",
       " 'persist',\n",
       " 'principle',\n",
       " 'reckless',\n",
       " 'self-confiden',\n",
       " 'self-relian',\n",
       " 'self-sufficien',\n",
       " 'selfconfiden',\n",
       " 'selfrelian',\n",
       " 'selfsufficien',\n",
       " 'stubborn',\n",
       " 'superior',\n",
       " 'self-driven',\n",
       " 'selfdriven',\n",
       " 'self-motivated',\n",
       " 'selfmotivated',\n",
       " 'problem-solving',\n",
       " 'mathematical',\n",
       " 'leadership',\n",
       " 'maintain',\n",
       " 'manage',\n",
       " 'monitor',\n",
       " 'strateg',\n",
       " 'travel',\n",
       " 'supervis',\n",
       " 'proactive',\n",
       " 'pressure']"
      ]
     },
     "execution_count": 27,
     "metadata": {},
     "output_type": "execute_result"
    }
   ],
   "source": [
    "masculine_coded_words"
   ]
  },
  {
   "cell_type": "code",
   "execution_count": 28,
   "metadata": {},
   "outputs": [],
   "source": [
    "# construct a new wordslist.py in the folder using the updated two lists"
   ]
  },
  {
   "cell_type": "code",
   "execution_count": null,
   "metadata": {},
   "outputs": [],
   "source": []
  },
  {
   "cell_type": "code",
   "execution_count": 29,
   "metadata": {},
   "outputs": [],
   "source": [
    "#apply gender decoder on job_requirements and job_description separately"
   ]
  },
  {
   "cell_type": "code",
   "execution_count": 30,
   "metadata": {},
   "outputs": [],
   "source": [
    "df['job_requirement_decoder'] = df.job_requirement_en.dropna().apply(assess)"
   ]
  },
  {
   "cell_type": "code",
   "execution_count": 31,
   "metadata": {},
   "outputs": [
    {
     "data": {
      "text/plain": [
       "False    6470\n",
       "True        1\n",
       "Name: job_requirement_decoder, dtype: int64"
      ]
     },
     "execution_count": 31,
     "metadata": {},
     "output_type": "execute_result"
    }
   ],
   "source": [
    "# 1 row has null value\n",
    "\n",
    "df.job_requirement_decoder.isnull().value_counts()"
   ]
  },
  {
   "cell_type": "code",
   "execution_count": 32,
   "metadata": {},
   "outputs": [],
   "source": [
    "df['job_requirement_result'] = df[\n",
    "    'job_requirement_decoder'].dropna().apply(lambda x: x.get('result'))\n",
    "df['job_requirement_masculine_coded_words'] = df[\n",
    "    'job_requirement_decoder'].dropna().apply(lambda x: x.get('masculine_coded_words'))\n",
    "df['job_requirement_feminine_coded_words'] = df[\n",
    "    'job_requirement_decoder'].dropna().apply(lambda x: x.get('feminine_coded_words'))"
   ]
  },
  {
   "cell_type": "code",
   "execution_count": 33,
   "metadata": {},
   "outputs": [],
   "source": [
    "df['job_description_decoder'] = df.job_description_en.dropna().apply(assess)"
   ]
  },
  {
   "cell_type": "code",
   "execution_count": 34,
   "metadata": {},
   "outputs": [
    {
     "data": {
      "text/plain": [
       "False    6470\n",
       "True        1\n",
       "Name: job_description_decoder, dtype: int64"
      ]
     },
     "execution_count": 34,
     "metadata": {},
     "output_type": "execute_result"
    }
   ],
   "source": [
    "# 1 row has null value\n",
    "\n",
    "df.job_description_decoder.isnull().value_counts()"
   ]
  },
  {
   "cell_type": "code",
   "execution_count": 161,
   "metadata": {},
   "outputs": [],
   "source": [
    "# drop null row\n",
    "\n",
    "df = df[df.job_description_decoder.notnull()]"
   ]
  },
  {
   "cell_type": "code",
   "execution_count": 35,
   "metadata": {},
   "outputs": [],
   "source": [
    "df['job_description_result'] = df[\n",
    "    'job_description_decoder'].dropna().apply(lambda x: x.get('result'))\n",
    "df['job_description_masculine_coded_words'] = df[\n",
    "    'job_description_decoder'].dropna().apply(lambda x: x.get('masculine_coded_words'))\n",
    "df['job_description_feminine_coded_words'] = df[\n",
    "    'job_description_decoder'].dropna().apply(lambda x: x.get('feminine_coded_words'))"
   ]
  },
  {
   "cell_type": "code",
   "execution_count": 36,
   "metadata": {},
   "outputs": [],
   "source": [
    "# this entry has neither job_requirement nor job_description"
   ]
  },
  {
   "cell_type": "code",
   "execution_count": 37,
   "metadata": {},
   "outputs": [
    {
     "data": {
      "text/html": [
       "<div>\n",
       "<style scoped>\n",
       "    .dataframe tbody tr th:only-of-type {\n",
       "        vertical-align: middle;\n",
       "    }\n",
       "\n",
       "    .dataframe tbody tr th {\n",
       "        vertical-align: top;\n",
       "    }\n",
       "\n",
       "    .dataframe thead th {\n",
       "        text-align: right;\n",
       "    }\n",
       "</style>\n",
       "<table border=\"1\" class=\"dataframe\">\n",
       "  <thead>\n",
       "    <tr style=\"text-align: right;\">\n",
       "      <th></th>\n",
       "      <th>id</th>\n",
       "      <th>job_title_original</th>\n",
       "      <th>job_requirement_en</th>\n",
       "      <th>job_description_en</th>\n",
       "      <th>job_category</th>\n",
       "      <th>length_requirement</th>\n",
       "      <th>length_description</th>\n",
       "      <th>job_title_clean</th>\n",
       "      <th>job_field</th>\n",
       "      <th>job_position</th>\n",
       "      <th>job_level</th>\n",
       "      <th>job_rank</th>\n",
       "      <th>degree_vocational</th>\n",
       "      <th>degree_academic</th>\n",
       "      <th>total_candidates</th>\n",
       "      <th>female_share</th>\n",
       "      <th>job_requirement_decoder</th>\n",
       "      <th>job_requirement_result</th>\n",
       "      <th>job_requirement_masculine_coded_words</th>\n",
       "      <th>job_requirement_feminine_coded_words</th>\n",
       "      <th>job_description_decoder</th>\n",
       "      <th>job_description_result</th>\n",
       "      <th>job_description_masculine_coded_words</th>\n",
       "      <th>job_description_feminine_coded_words</th>\n",
       "    </tr>\n",
       "  </thead>\n",
       "  <tbody>\n",
       "    <tr>\n",
       "      <th>8</th>\n",
       "      <td>2264</td>\n",
       "      <td>leader platform team</td>\n",
       "      <td>NaN</td>\n",
       "      <td>NaN</td>\n",
       "      <td>engineering</td>\n",
       "      <td>0</td>\n",
       "      <td>0</td>\n",
       "      <td>leader</td>\n",
       "      <td>NaN</td>\n",
       "      <td>NaN</td>\n",
       "      <td>leader</td>\n",
       "      <td>NaN</td>\n",
       "      <td>0</td>\n",
       "      <td>0</td>\n",
       "      <td>1</td>\n",
       "      <td>0.0</td>\n",
       "      <td>NaN</td>\n",
       "      <td>NaN</td>\n",
       "      <td>NaN</td>\n",
       "      <td>NaN</td>\n",
       "      <td>NaN</td>\n",
       "      <td>NaN</td>\n",
       "      <td>NaN</td>\n",
       "      <td>NaN</td>\n",
       "    </tr>\n",
       "  </tbody>\n",
       "</table>\n",
       "</div>"
      ],
      "text/plain": [
       "     id     job_title_original job_requirement_en job_description_en  \\\n",
       "8  2264  leader platform team                 NaN                NaN   \n",
       "\n",
       "  job_category  length_requirement  length_description job_title_clean  \\\n",
       "8  engineering                   0                   0          leader   \n",
       "\n",
       "  job_field job_position job_level job_rank  degree_vocational  \\\n",
       "8       NaN          NaN    leader      NaN                  0   \n",
       "\n",
       "   degree_academic  total_candidates  female_share job_requirement_decoder  \\\n",
       "8                0                 1           0.0                     NaN   \n",
       "\n",
       "  job_requirement_result job_requirement_masculine_coded_words  \\\n",
       "8                    NaN                                   NaN   \n",
       "\n",
       "  job_requirement_feminine_coded_words job_description_decoder  \\\n",
       "8                                  NaN                     NaN   \n",
       "\n",
       "  job_description_result job_description_masculine_coded_words  \\\n",
       "8                    NaN                                   NaN   \n",
       "\n",
       "  job_description_feminine_coded_words  \n",
       "8                                  NaN  "
      ]
     },
     "execution_count": 37,
     "metadata": {},
     "output_type": "execute_result"
    }
   ],
   "source": [
    "df[(df.job_description_decoder.isnull()) | (df.job_requirement_decoder.isnull())]"
   ]
  },
  {
   "cell_type": "code",
   "execution_count": null,
   "metadata": {},
   "outputs": [],
   "source": []
  },
  {
   "cell_type": "code",
   "execution_count": 38,
   "metadata": {},
   "outputs": [
    {
     "data": {
      "text/plain": [
       "array(['feminine-coded', 'masculine-coded', 'strongly masculine-coded',\n",
       "       'neutral', nan, 'strongly feminine-coded'], dtype=object)"
      ]
     },
     "execution_count": 38,
     "metadata": {},
     "output_type": "execute_result"
    }
   ],
   "source": [
    "df.job_requirement_result.unique()"
   ]
  },
  {
   "cell_type": "code",
   "execution_count": 39,
   "metadata": {},
   "outputs": [
    {
     "data": {
      "text/plain": [
       "masculine-coded             2565\n",
       "feminine-coded              1399\n",
       "neutral                     1371\n",
       "strongly masculine-coded     583\n",
       "strongly feminine-coded      552\n",
       "Name: job_requirement_result, dtype: int64"
      ]
     },
     "execution_count": 39,
     "metadata": {},
     "output_type": "execute_result"
    }
   ],
   "source": [
    "# count results for job_requirement\n",
    "\n",
    "df.job_requirement_result.value_counts()"
   ]
  },
  {
   "cell_type": "code",
   "execution_count": 40,
   "metadata": {},
   "outputs": [
    {
     "data": {
      "text/plain": [
       "masculine-coded             2950\n",
       "feminine-coded              1085\n",
       "strongly masculine-coded    1080\n",
       "neutral                      989\n",
       "strongly feminine-coded      366\n",
       "Name: job_description_result, dtype: int64"
      ]
     },
     "execution_count": 40,
     "metadata": {},
     "output_type": "execute_result"
    }
   ],
   "source": [
    "# count results for job_description\n",
    "\n",
    "df.job_description_result.value_counts()"
   ]
  },
  {
   "cell_type": "code",
   "execution_count": null,
   "metadata": {},
   "outputs": [],
   "source": []
  },
  {
   "cell_type": "code",
   "execution_count": 41,
   "metadata": {},
   "outputs": [],
   "source": [
    "# create numerical value mapping for the result, \n",
    "decoder_result_mapping = {\n",
    "    \"strongly feminine-coded\" : -2, \n",
    "    \"feminine-coded\" : -1,\n",
    "    \"neutral\": 0,\n",
    "    \"masculine-coded\": 1,\n",
    "    \"strongly masculine-coded\": 2}"
   ]
  },
  {
   "cell_type": "code",
   "execution_count": 42,
   "metadata": {},
   "outputs": [],
   "source": [
    "# Assign a score for each entry's job_requirement_result and job_description_result\n",
    "\n",
    "df['job_requirement_score'] = df.job_requirement_result.map(decoder_result_mapping)"
   ]
  },
  {
   "cell_type": "code",
   "execution_count": 43,
   "metadata": {},
   "outputs": [],
   "source": [
    "df['job_description_score'] = df.job_description_result.map(decoder_result_mapping).astype(float)"
   ]
  },
  {
   "cell_type": "code",
   "execution_count": 44,
   "metadata": {},
   "outputs": [
    {
     "data": {
      "text/plain": [
       "0.24169371040024726"
      ]
     },
     "execution_count": 44,
     "metadata": {},
     "output_type": "execute_result"
    }
   ],
   "source": [
    "df[df['job_requirement_score'] > df['job_description_score']].shape[0]/df.shape[0]"
   ]
  },
  {
   "cell_type": "code",
   "execution_count": 45,
   "metadata": {},
   "outputs": [],
   "source": [
    "# About 63% of the entries have a higher job_requirement_score, \n",
    "# which means their job_requirement are more masculine_coded than their job_description"
   ]
  },
  {
   "cell_type": "code",
   "execution_count": null,
   "metadata": {},
   "outputs": [],
   "source": []
  },
  {
   "cell_type": "code",
   "execution_count": 46,
   "metadata": {},
   "outputs": [],
   "source": [
    "# adding the two scores together for each entry"
   ]
  },
  {
   "cell_type": "code",
   "execution_count": 47,
   "metadata": {},
   "outputs": [],
   "source": [
    "# combine ench entry's job_requirement_result with job_description_result\n",
    "\n",
    "df['combined_score'] = df.job_requirement_score + df.job_description_score"
   ]
  },
  {
   "cell_type": "code",
   "execution_count": 48,
   "metadata": {},
   "outputs": [
    {
     "data": {
      "text/plain": [
       " 2.0    1777\n",
       " 0.0    1419\n",
       " 1.0    1106\n",
       "-1.0     638\n",
       " 3.0     613\n",
       "-2.0     514\n",
       "-3.0     180\n",
       " 4.0     140\n",
       "-4.0      83\n",
       "Name: combined_score, dtype: int64"
      ]
     },
     "execution_count": 48,
     "metadata": {},
     "output_type": "execute_result"
    }
   ],
   "source": [
    "df.combined_score.value_counts()"
   ]
  },
  {
   "cell_type": "code",
   "execution_count": 49,
   "metadata": {},
   "outputs": [],
   "source": [
    "df.hist(column = 'combined_score',bins = 24);"
   ]
  },
  {
   "cell_type": "code",
   "execution_count": 50,
   "metadata": {},
   "outputs": [
    {
     "data": {
      "text/plain": [
       "combined_score\n",
       "-4.0    0.215309\n",
       "-3.0    0.228915\n",
       "-2.0    0.240137\n",
       "-1.0    0.233834\n",
       " 0.0    0.253498\n",
       " 1.0    0.249228\n",
       " 2.0    0.224501\n",
       " 3.0    0.227105\n",
       " 4.0    0.357656\n",
       "Name: female_share, dtype: float64"
      ]
     },
     "execution_count": 50,
     "metadata": {},
     "output_type": "execute_result"
    }
   ],
   "source": [
    "df.groupby('combined_score')['female_share'].mean()"
   ]
  },
  {
   "cell_type": "code",
   "execution_count": 51,
   "metadata": {},
   "outputs": [
    {
     "data": {
      "text/plain": [
       "job_requirement_score\n",
       "-2.0    0.273611\n",
       "-1.0    0.280018\n",
       " 0.0    0.237961\n",
       " 1.0    0.214492\n",
       " 2.0    0.233417\n",
       "Name: female_share, dtype: float64"
      ]
     },
     "execution_count": 51,
     "metadata": {},
     "output_type": "execute_result"
    }
   ],
   "source": [
    "df.groupby('job_requirement_score')['female_share'].mean()"
   ]
  },
  {
   "cell_type": "code",
   "execution_count": 52,
   "metadata": {},
   "outputs": [
    {
     "data": {
      "text/plain": [
       "job_description_score\n",
       "-2.0    0.187173\n",
       "-1.0    0.211778\n",
       " 0.0    0.218081\n",
       " 1.0    0.252218\n",
       " 2.0    0.275247\n",
       "Name: female_share, dtype: float64"
      ]
     },
     "execution_count": 52,
     "metadata": {},
     "output_type": "execute_result"
    }
   ],
   "source": [
    "df.groupby('job_description_score')['female_share'].mean()"
   ]
  },
  {
   "cell_type": "code",
   "execution_count": 53,
   "metadata": {},
   "outputs": [
    {
     "data": {
      "text/html": [
       "<div>\n",
       "<style scoped>\n",
       "    .dataframe tbody tr th:only-of-type {\n",
       "        vertical-align: middle;\n",
       "    }\n",
       "\n",
       "    .dataframe tbody tr th {\n",
       "        vertical-align: top;\n",
       "    }\n",
       "\n",
       "    .dataframe thead th {\n",
       "        text-align: right;\n",
       "    }\n",
       "</style>\n",
       "<table border=\"1\" class=\"dataframe\">\n",
       "  <thead>\n",
       "    <tr style=\"text-align: right;\">\n",
       "      <th></th>\n",
       "      <th>id</th>\n",
       "      <th>job_title_original</th>\n",
       "      <th>job_requirement_en</th>\n",
       "      <th>job_description_en</th>\n",
       "      <th>job_category</th>\n",
       "      <th>length_requirement</th>\n",
       "      <th>length_description</th>\n",
       "      <th>job_title_clean</th>\n",
       "      <th>job_field</th>\n",
       "      <th>job_position</th>\n",
       "      <th>job_level</th>\n",
       "      <th>job_rank</th>\n",
       "      <th>degree_vocational</th>\n",
       "      <th>degree_academic</th>\n",
       "      <th>total_candidates</th>\n",
       "      <th>female_share</th>\n",
       "      <th>job_requirement_decoder</th>\n",
       "      <th>job_requirement_result</th>\n",
       "      <th>job_requirement_masculine_coded_words</th>\n",
       "      <th>job_requirement_feminine_coded_words</th>\n",
       "      <th>job_description_decoder</th>\n",
       "      <th>job_description_result</th>\n",
       "      <th>job_description_masculine_coded_words</th>\n",
       "      <th>job_description_feminine_coded_words</th>\n",
       "      <th>job_requirement_score</th>\n",
       "      <th>job_description_score</th>\n",
       "      <th>combined_score</th>\n",
       "    </tr>\n",
       "  </thead>\n",
       "  <tbody>\n",
       "    <tr>\n",
       "      <th>0</th>\n",
       "      <td>9</td>\n",
       "      <td>central sap key user sd for the area plt oe</td>\n",
       "      <td>maintenance and further development of the glo...</td>\n",
       "      <td>maintenance and further development of the glo...</td>\n",
       "      <td>marketing_and_sales</td>\n",
       "      <td>166</td>\n",
       "      <td>166</td>\n",
       "      <td>key user</td>\n",
       "      <td>NaN</td>\n",
       "      <td>NaN</td>\n",
       "      <td>NaN</td>\n",
       "      <td>NaN</td>\n",
       "      <td>0</td>\n",
       "      <td>1</td>\n",
       "      <td>1</td>\n",
       "      <td>0.0</td>\n",
       "      <td>{'result': 'feminine-coded', 'explanation': 'T...</td>\n",
       "      <td>feminine-coded</td>\n",
       "      <td>[analysis, management, travel]</td>\n",
       "      <td>[responsible, responsible, understanding, team...</td>\n",
       "      <td>{'result': 'feminine-coded', 'explanation': 'T...</td>\n",
       "      <td>feminine-coded</td>\n",
       "      <td>[analysis, management, travel]</td>\n",
       "      <td>[responsible, responsible, understanding, team...</td>\n",
       "      <td>-1.0</td>\n",
       "      <td>-1.0</td>\n",
       "      <td>-2.0</td>\n",
       "    </tr>\n",
       "    <tr>\n",
       "      <th>1</th>\n",
       "      <td>46</td>\n",
       "      <td>system engineer automotive security privacy</td>\n",
       "      <td>university degree in computer science or equi...</td>\n",
       "      <td>university degree in computer science or equi...</td>\n",
       "      <td>engineering</td>\n",
       "      <td>83</td>\n",
       "      <td>83</td>\n",
       "      <td>engineer</td>\n",
       "      <td>system</td>\n",
       "      <td>engineer</td>\n",
       "      <td>NaN</td>\n",
       "      <td>NaN</td>\n",
       "      <td>0</td>\n",
       "      <td>1</td>\n",
       "      <td>1</td>\n",
       "      <td>0.0</td>\n",
       "      <td>{'result': 'feminine-coded', 'explanation': 'T...</td>\n",
       "      <td>feminine-coded</td>\n",
       "      <td>[actively]</td>\n",
       "      <td>[communication, team]</td>\n",
       "      <td>{'result': 'feminine-coded', 'explanation': 'T...</td>\n",
       "      <td>feminine-coded</td>\n",
       "      <td>[actively]</td>\n",
       "      <td>[communication, team]</td>\n",
       "      <td>-1.0</td>\n",
       "      <td>-1.0</td>\n",
       "      <td>-2.0</td>\n",
       "    </tr>\n",
       "    <tr>\n",
       "      <th>2</th>\n",
       "      <td>1086</td>\n",
       "      <td>lnd_150110_transferstelle pd</td>\n",
       "      <td>development of platform components for adas sy...</td>\n",
       "      <td>development of platform components for adas sy...</td>\n",
       "      <td>engineering</td>\n",
       "      <td>250</td>\n",
       "      <td>250</td>\n",
       "      <td>missing</td>\n",
       "      <td>NaN</td>\n",
       "      <td>NaN</td>\n",
       "      <td>NaN</td>\n",
       "      <td>NaN</td>\n",
       "      <td>0</td>\n",
       "      <td>1</td>\n",
       "      <td>1</td>\n",
       "      <td>1.0</td>\n",
       "      <td>{'result': 'masculine-coded', 'explanation': '...</td>\n",
       "      <td>masculine-coded</td>\n",
       "      <td>[lead, strategies, monitor, actively]</td>\n",
       "      <td>[responsibility]</td>\n",
       "      <td>{'result': 'masculine-coded', 'explanation': '...</td>\n",
       "      <td>masculine-coded</td>\n",
       "      <td>[lead, strategies, monitor, actively]</td>\n",
       "      <td>[responsibility]</td>\n",
       "      <td>1.0</td>\n",
       "      <td>1.0</td>\n",
       "      <td>2.0</td>\n",
       "    </tr>\n",
       "    <tr>\n",
       "      <th>3</th>\n",
       "      <td>1663</td>\n",
       "      <td>logistic</td>\n",
       "      <td>logistic development and implementation of the...</td>\n",
       "      <td>logistic development and implementation of the...</td>\n",
       "      <td>manufacturing_operations_and_production</td>\n",
       "      <td>25</td>\n",
       "      <td>25</td>\n",
       "      <td>missing</td>\n",
       "      <td>NaN</td>\n",
       "      <td>NaN</td>\n",
       "      <td>NaN</td>\n",
       "      <td>NaN</td>\n",
       "      <td>0</td>\n",
       "      <td>0</td>\n",
       "      <td>1</td>\n",
       "      <td>0.0</td>\n",
       "      <td>{'result': 'strongly masculine-coded', 'explan...</td>\n",
       "      <td>strongly masculine-coded</td>\n",
       "      <td>[leader]</td>\n",
       "      <td>[]</td>\n",
       "      <td>{'result': 'strongly masculine-coded', 'explan...</td>\n",
       "      <td>strongly masculine-coded</td>\n",
       "      <td>[leader]</td>\n",
       "      <td>[]</td>\n",
       "      <td>2.0</td>\n",
       "      <td>2.0</td>\n",
       "      <td>4.0</td>\n",
       "    </tr>\n",
       "    <tr>\n",
       "      <th>4</th>\n",
       "      <td>1733</td>\n",
       "      <td>central key user manufacturing controlling suite</td>\n",
       "      <td>implement manufacturing accounting standard in...</td>\n",
       "      <td>implement manufacturing accounting standard in...</td>\n",
       "      <td>information_technology</td>\n",
       "      <td>123</td>\n",
       "      <td>123</td>\n",
       "      <td>key user</td>\n",
       "      <td>NaN</td>\n",
       "      <td>NaN</td>\n",
       "      <td>NaN</td>\n",
       "      <td>NaN</td>\n",
       "      <td>0</td>\n",
       "      <td>0</td>\n",
       "      <td>1</td>\n",
       "      <td>0.0</td>\n",
       "      <td>{'result': 'strongly masculine-coded', 'explan...</td>\n",
       "      <td>strongly masculine-coded</td>\n",
       "      <td>[maintain]</td>\n",
       "      <td>[]</td>\n",
       "      <td>{'result': 'strongly masculine-coded', 'explan...</td>\n",
       "      <td>strongly masculine-coded</td>\n",
       "      <td>[maintain]</td>\n",
       "      <td>[]</td>\n",
       "      <td>2.0</td>\n",
       "      <td>2.0</td>\n",
       "      <td>4.0</td>\n",
       "    </tr>\n",
       "  </tbody>\n",
       "</table>\n",
       "</div>"
      ],
      "text/plain": [
       "     id                                job_title_original  \\\n",
       "0     9       central sap key user sd for the area plt oe   \n",
       "1    46       system engineer automotive security privacy   \n",
       "2  1086                      lnd_150110_transferstelle pd   \n",
       "3  1663                                          logistic   \n",
       "4  1733  central key user manufacturing controlling suite   \n",
       "\n",
       "                                  job_requirement_en  \\\n",
       "0  maintenance and further development of the glo...   \n",
       "1   university degree in computer science or equi...   \n",
       "2  development of platform components for adas sy...   \n",
       "3  logistic development and implementation of the...   \n",
       "4  implement manufacturing accounting standard in...   \n",
       "\n",
       "                                  job_description_en  \\\n",
       "0  maintenance and further development of the glo...   \n",
       "1   university degree in computer science or equi...   \n",
       "2  development of platform components for adas sy...   \n",
       "3  logistic development and implementation of the...   \n",
       "4  implement manufacturing accounting standard in...   \n",
       "\n",
       "                              job_category  length_requirement  \\\n",
       "0                      marketing_and_sales                 166   \n",
       "1                              engineering                  83   \n",
       "2                              engineering                 250   \n",
       "3  manufacturing_operations_and_production                  25   \n",
       "4                   information_technology                 123   \n",
       "\n",
       "   length_description job_title_clean job_field job_position job_level  \\\n",
       "0                 166        key user       NaN          NaN       NaN   \n",
       "1                  83        engineer    system     engineer       NaN   \n",
       "2                 250         missing       NaN          NaN       NaN   \n",
       "3                  25         missing       NaN          NaN       NaN   \n",
       "4                 123        key user       NaN          NaN       NaN   \n",
       "\n",
       "  job_rank  degree_vocational  degree_academic  total_candidates  \\\n",
       "0      NaN                  0                1                 1   \n",
       "1      NaN                  0                1                 1   \n",
       "2      NaN                  0                1                 1   \n",
       "3      NaN                  0                0                 1   \n",
       "4      NaN                  0                0                 1   \n",
       "\n",
       "   female_share                            job_requirement_decoder  \\\n",
       "0           0.0  {'result': 'feminine-coded', 'explanation': 'T...   \n",
       "1           0.0  {'result': 'feminine-coded', 'explanation': 'T...   \n",
       "2           1.0  {'result': 'masculine-coded', 'explanation': '...   \n",
       "3           0.0  {'result': 'strongly masculine-coded', 'explan...   \n",
       "4           0.0  {'result': 'strongly masculine-coded', 'explan...   \n",
       "\n",
       "     job_requirement_result  job_requirement_masculine_coded_words  \\\n",
       "0            feminine-coded         [analysis, management, travel]   \n",
       "1            feminine-coded                             [actively]   \n",
       "2           masculine-coded  [lead, strategies, monitor, actively]   \n",
       "3  strongly masculine-coded                               [leader]   \n",
       "4  strongly masculine-coded                             [maintain]   \n",
       "\n",
       "                job_requirement_feminine_coded_words  \\\n",
       "0  [responsible, responsible, understanding, team...   \n",
       "1                              [communication, team]   \n",
       "2                                   [responsibility]   \n",
       "3                                                 []   \n",
       "4                                                 []   \n",
       "\n",
       "                             job_description_decoder  \\\n",
       "0  {'result': 'feminine-coded', 'explanation': 'T...   \n",
       "1  {'result': 'feminine-coded', 'explanation': 'T...   \n",
       "2  {'result': 'masculine-coded', 'explanation': '...   \n",
       "3  {'result': 'strongly masculine-coded', 'explan...   \n",
       "4  {'result': 'strongly masculine-coded', 'explan...   \n",
       "\n",
       "     job_description_result  job_description_masculine_coded_words  \\\n",
       "0            feminine-coded         [analysis, management, travel]   \n",
       "1            feminine-coded                             [actively]   \n",
       "2           masculine-coded  [lead, strategies, monitor, actively]   \n",
       "3  strongly masculine-coded                               [leader]   \n",
       "4  strongly masculine-coded                             [maintain]   \n",
       "\n",
       "                job_description_feminine_coded_words  job_requirement_score  \\\n",
       "0  [responsible, responsible, understanding, team...                   -1.0   \n",
       "1                              [communication, team]                   -1.0   \n",
       "2                                   [responsibility]                    1.0   \n",
       "3                                                 []                    2.0   \n",
       "4                                                 []                    2.0   \n",
       "\n",
       "   job_description_score  combined_score  \n",
       "0                   -1.0            -2.0  \n",
       "1                   -1.0            -2.0  \n",
       "2                    1.0             2.0  \n",
       "3                    2.0             4.0  \n",
       "4                    2.0             4.0  "
      ]
     },
     "execution_count": 53,
     "metadata": {},
     "output_type": "execute_result"
    }
   ],
   "source": [
    "df.head()"
   ]
  },
  {
   "cell_type": "code",
   "execution_count": 54,
   "metadata": {},
   "outputs": [],
   "source": [
    "# most common gender decoded words "
   ]
  },
  {
   "cell_type": "code",
   "execution_count": 55,
   "metadata": {},
   "outputs": [],
   "source": [
    "count_feminine_description = Counter(\" \".join(\n",
    "    df.job_description_feminine_coded_words.str.join(\" \").astype(str)).split(\" \"))\n",
    "count_feminine_requirement = Counter(\" \".join(\n",
    "    df.job_requirement_feminine_coded_words.str.join(\" \").astype(str)).split(\" \"))\n",
    "count_masculine_description = Counter(\" \".join(\n",
    "    df.job_description_masculine_coded_words.str.join(\" \").astype(str)).split(\" \"))\n",
    "count_masculine_requirement = Counter(\" \".join(\n",
    "    df.job_requirement_masculine_coded_words.str.join(\" \").astype(str)).split(\" \"))"
   ]
  },
  {
   "cell_type": "code",
   "execution_count": 56,
   "metadata": {},
   "outputs": [],
   "source": [
    "count_feminine = count_feminine_description + count_feminine_requirement\n",
    "count_masculine = count_masculine_description + count_masculine_requirement"
   ]
  },
  {
   "cell_type": "code",
   "execution_count": 57,
   "metadata": {},
   "outputs": [
    {
     "data": {
      "text/plain": [
       "[('team', 6151),\n",
       " ('communication', 5082),\n",
       " ('responsible', 3052),\n",
       " ('teams', 2369),\n",
       " ('cooperation', 2128),\n",
       " ('', 2105),\n",
       " ('responsibility', 1786),\n",
       " ('understanding', 1130),\n",
       " ('collaboration', 754),\n",
       " ('flexibility', 717),\n",
       " ('together', 683),\n",
       " ('teamwork', 569),\n",
       " ('communications', 403),\n",
       " ('responsibilities', 366),\n",
       " ('share', 214),\n",
       " ('communicate', 195),\n",
       " ('connection', 142),\n",
       " ('understand', 129),\n",
       " ('sharing', 116),\n",
       " ('teamoriented', 112)]"
      ]
     },
     "execution_count": 57,
     "metadata": {},
     "output_type": "execute_result"
    }
   ],
   "source": [
    "count_feminine.most_common(20)"
   ]
  },
  {
   "cell_type": "code",
   "execution_count": 58,
   "metadata": {},
   "outputs": [
    {
     "data": {
      "text/plain": [
       "[('management', 11363),\n",
       " ('analysis', 3599),\n",
       " ('independent', 1793),\n",
       " ('leadership', 1724),\n",
       " ('monitoring', 1709),\n",
       " ('strategy', 1633),\n",
       " ('travel', 1578),\n",
       " ('competence', 1505),\n",
       " ('manager', 1465),\n",
       " ('', 1360),\n",
       " ('analytical', 1318),\n",
       " ('strategic', 1190),\n",
       " ('lead', 1096),\n",
       " ('leading', 879),\n",
       " ('assertiveness', 784),\n",
       " ('strategies', 640),\n",
       " ('active', 620),\n",
       " ('individual', 603),\n",
       " ('decision', 516),\n",
       " ('manage', 498)]"
      ]
     },
     "execution_count": 58,
     "metadata": {},
     "output_type": "execute_result"
    }
   ],
   "source": [
    "count_masculine.most_common(20)"
   ]
  },
  {
   "cell_type": "code",
   "execution_count": null,
   "metadata": {},
   "outputs": [],
   "source": []
  },
  {
   "cell_type": "code",
   "execution_count": 59,
   "metadata": {},
   "outputs": [],
   "source": [
    "# compare gender decoded language and female share across job_category"
   ]
  },
  {
   "cell_type": "code",
   "execution_count": 60,
   "metadata": {},
   "outputs": [
    {
     "data": {
      "text/plain": [
       "array(['marketing_and_sales', 'engineering',\n",
       "       'manufacturing_operations_and_production',\n",
       "       'information_technology', 'logistics', 'purchasing',\n",
       "       'administration_and_assistance', 'finance', 'human_resources',\n",
       "       'health_safety_and_security_environment_facility', 'quality',\n",
       "       'project_management', 'general_management'], dtype=object)"
      ]
     },
     "execution_count": 60,
     "metadata": {},
     "output_type": "execute_result"
    }
   ],
   "source": [
    "df.job_category.unique()"
   ]
  },
  {
   "cell_type": "code",
   "execution_count": 61,
   "metadata": {},
   "outputs": [
    {
     "data": {
      "text/plain": [
       "job_category\n",
       "administration_and_assistance                      0.295597\n",
       "engineering                                        0.375541\n",
       "human_resources                                    0.434932\n",
       "manufacturing_operations_and_production            0.870192\n",
       "marketing_and_sales                                0.903339\n",
       "logistics                                          0.919847\n",
       "information_technology                             0.949062\n",
       "finance                                            0.995338\n",
       "project_management                                 1.106918\n",
       "purchasing                                         1.287938\n",
       "quality                                            1.304740\n",
       "general_management                                 1.489362\n",
       "health_safety_and_security_environment_facility    1.569231\n",
       "Name: combined_score, dtype: float64"
      ]
     },
     "execution_count": 61,
     "metadata": {},
     "output_type": "execute_result"
    }
   ],
   "source": [
    "# the higher the combined score, the more masculine coded the job ads is, 0 is neutral\n",
    "\n",
    "df[df.job_category.notnull()].groupby('job_category')['combined_score'].mean().sort_values()"
   ]
  },
  {
   "cell_type": "code",
   "execution_count": 62,
   "metadata": {},
   "outputs": [
    {
     "data": {
      "text/plain": [
       "job_category\n",
       "engineering                                        0.124731\n",
       "manufacturing_operations_and_production            0.144573\n",
       "general_management                                 0.150227\n",
       "information_technology                             0.185819\n",
       "quality                                            0.210982\n",
       "project_management                                 0.222237\n",
       "health_safety_and_security_environment_facility    0.242137\n",
       "marketing_and_sales                                0.317680\n",
       "logistics                                          0.354387\n",
       "purchasing                                         0.369011\n",
       "finance                                            0.394983\n",
       "human_resources                                    0.740253\n",
       "administration_and_assistance                      0.839064\n",
       "Name: female_share, dtype: float64"
      ]
     },
     "execution_count": 62,
     "metadata": {},
     "output_type": "execute_result"
    }
   ],
   "source": [
    "df[df.job_category.notnull()].groupby('job_category')['female_share'].mean().sort_values()"
   ]
  },
  {
   "cell_type": "code",
   "execution_count": null,
   "metadata": {},
   "outputs": [],
   "source": []
  },
  {
   "cell_type": "code",
   "execution_count": 63,
   "metadata": {},
   "outputs": [],
   "source": [
    "# compare gender decoded language and female share across job_title_clean"
   ]
  },
  {
   "cell_type": "code",
   "execution_count": 64,
   "metadata": {},
   "outputs": [
    {
     "data": {
      "text/plain": [
       "array(['key user', 'engineer', 'missing', 'team leader', 'leader',\n",
       "       'logistics', 'expert', 'coordinator', 'projectmanager',\n",
       "       'purchaser', 'manager', 'administrator_assistant', 'it', 'coach',\n",
       "       'analyst', 'controller', 'hr', 'quality manager', 'technician',\n",
       "       'employee', 'department leader', 'lawyer', 'electrician',\n",
       "       'supplier', 'clerk', 'group leader', 'accountant', 'sales', 'head',\n",
       "       'communication', 'account manager', 'planner', 'consultant',\n",
       "       'marketing', 'data scientist', 'researcher', 'audit',\n",
       "       'acquisition', 'production', 'area leader', 'layer leader',\n",
       "       'graduate'], dtype=object)"
      ]
     },
     "execution_count": 64,
     "metadata": {},
     "output_type": "execute_result"
    }
   ],
   "source": [
    "df.job_title_clean.unique()"
   ]
  },
  {
   "cell_type": "code",
   "execution_count": 65,
   "metadata": {},
   "outputs": [
    {
     "data": {
      "text/plain": [
       "job_title_clean\n",
       "communication             -0.945055\n",
       "layer leader              -0.928571\n",
       "lawyer                    -0.900000\n",
       "accountant                 0.035714\n",
       "technician                 0.141026\n",
       "engineer                   0.165887\n",
       "hr                         0.182432\n",
       "marketing                  0.205882\n",
       "graduate                   0.250000\n",
       "administrator_assistant    0.275000\n",
       "key user                   0.551724\n",
       "clerk                      0.602564\n",
       "area leader                0.739130\n",
       "missing                    0.754967\n",
       "employee                   0.822581\n",
       "electrician                0.850000\n",
       "manager                    0.855691\n",
       "department leader          0.866667\n",
       "team leader                0.867925\n",
       "data scientist             0.884615\n",
       "controller                 0.886957\n",
       "expert                     0.893491\n",
       "coordinator                0.921053\n",
       "logistics                  0.954545\n",
       "it                         0.960526\n",
       "production                 0.973684\n",
       "coach                      0.984615\n",
       "audit                      1.000000\n",
       "planner                    1.039216\n",
       "projectmanager             1.046875\n",
       "researcher                 1.064516\n",
       "acquisition                1.100000\n",
       "consultant                 1.144231\n",
       "analyst                    1.181818\n",
       "leader                     1.192661\n",
       "sales                      1.201794\n",
       "group leader               1.222222\n",
       "purchaser                  1.302128\n",
       "quality manager            1.436709\n",
       "head                       1.440928\n",
       "supplier                   1.500000\n",
       "account manager            1.627451\n",
       "Name: combined_score, dtype: float64"
      ]
     },
     "execution_count": 65,
     "metadata": {},
     "output_type": "execute_result"
    }
   ],
   "source": [
    "df[df.job_title_clean.notnull()].groupby('job_title_clean')['combined_score'].mean().sort_values()"
   ]
  },
  {
   "cell_type": "code",
   "execution_count": 66,
   "metadata": {},
   "outputs": [
    {
     "data": {
      "text/plain": [
       "job_title_clean\n",
       "layer leader               0.017857\n",
       "technician                 0.056446\n",
       "department leader          0.100000\n",
       "engineer                   0.122747\n",
       "leader                     0.124784\n",
       "researcher                 0.129032\n",
       "data scientist             0.135562\n",
       "group leader               0.142779\n",
       "projectmanager             0.143822\n",
       "acquisition                0.150000\n",
       "it                         0.154527\n",
       "production                 0.155755\n",
       "head                       0.159287\n",
       "team leader                0.169220\n",
       "account manager            0.170627\n",
       "missing                    0.205890\n",
       "key user                   0.207417\n",
       "quality manager            0.207603\n",
       "manager                    0.237265\n",
       "consultant                 0.237457\n",
       "electrician                0.241667\n",
       "graduate                   0.250000\n",
       "supplier                   0.253175\n",
       "area leader                0.262319\n",
       "lawyer                     0.266667\n",
       "sales                      0.269229\n",
       "audit                      0.274359\n",
       "planner                    0.285154\n",
       "expert                     0.288297\n",
       "coordinator                0.299003\n",
       "analyst                    0.299303\n",
       "employee                   0.326462\n",
       "purchaser                  0.392319\n",
       "logistics                  0.395601\n",
       "controller                 0.429928\n",
       "coach                      0.451453\n",
       "clerk                      0.481665\n",
       "accountant                 0.511905\n",
       "communication              0.531881\n",
       "marketing                  0.542379\n",
       "administrator_assistant    0.752788\n",
       "hr                         0.786071\n",
       "Name: female_share, dtype: float64"
      ]
     },
     "execution_count": 66,
     "metadata": {},
     "output_type": "execute_result"
    }
   ],
   "source": [
    "df[df.job_title_clean.notnull()].groupby('job_title_clean')['female_share'].mean().sort_values()"
   ]
  },
  {
   "cell_type": "code",
   "execution_count": null,
   "metadata": {},
   "outputs": [],
   "source": []
  },
  {
   "cell_type": "code",
   "execution_count": 67,
   "metadata": {},
   "outputs": [],
   "source": [
    "# compare gender decoded language and female share across job_field"
   ]
  },
  {
   "cell_type": "code",
   "execution_count": 68,
   "metadata": {},
   "outputs": [
    {
     "data": {
      "text/plain": [
       "array([nan, 'system', 'test', 'logistics', 'hardware', 'function',\n",
       "       'automotive', 'industrial', 'development', 'quality', 'software',\n",
       "       'design', 'requirement', 'application', 'calibration',\n",
       "       'calculation', 'cloud', 'chemical', 'acoustics', 'devops',\n",
       "       'electronics', 'resident', 'analysis', 'chemist', 'android',\n",
       "       'algorithm'], dtype=object)"
      ]
     },
     "execution_count": 68,
     "metadata": {},
     "output_type": "execute_result"
    }
   ],
   "source": [
    "df.job_field.unique()"
   ]
  },
  {
   "cell_type": "code",
   "execution_count": 69,
   "metadata": {},
   "outputs": [
    {
     "data": {
      "text/plain": [
       "job_field\n",
       "android       -4.000000\n",
       "algorithm     -0.714286\n",
       "design        -0.625000\n",
       "acoustics     -0.500000\n",
       "hardware      -0.356436\n",
       "calculation   -0.166667\n",
       "software       0.087879\n",
       "devops         0.100000\n",
       "electronics    0.114754\n",
       "resident       0.235294\n",
       "test           0.277027\n",
       "development    0.367681\n",
       "function       0.463235\n",
       "requirement    0.703704\n",
       "industrial     0.715789\n",
       "system         0.717629\n",
       "calibration    0.800000\n",
       "application    0.819444\n",
       "automotive     0.898734\n",
       "chemical       1.000000\n",
       "logistics      1.007812\n",
       "cloud          1.058824\n",
       "chemist        1.222222\n",
       "quality        1.384375\n",
       "analysis       1.512821\n",
       "Name: combined_score, dtype: float64"
      ]
     },
     "execution_count": 69,
     "metadata": {},
     "output_type": "execute_result"
    }
   ],
   "source": [
    "df[df.job_field.notnull()].groupby('job_field')['combined_score'].mean().sort_values()"
   ]
  },
  {
   "cell_type": "code",
   "execution_count": 70,
   "metadata": {},
   "outputs": [
    {
     "data": {
      "text/plain": [
       "job_field\n",
       "acoustics      0.000000\n",
       "android        0.000000\n",
       "calculation    0.033333\n",
       "devops         0.033333\n",
       "algorithm      0.059524\n",
       "calibration    0.075000\n",
       "hardware       0.076898\n",
       "test           0.089897\n",
       "electronics    0.105738\n",
       "design         0.113750\n",
       "cloud          0.127451\n",
       "system         0.135992\n",
       "software       0.148995\n",
       "development    0.159125\n",
       "industrial     0.161925\n",
       "function       0.162648\n",
       "application    0.176113\n",
       "quality        0.193901\n",
       "automotive     0.227250\n",
       "chemist        0.250000\n",
       "resident       0.254902\n",
       "chemical       0.261905\n",
       "analysis       0.268661\n",
       "requirement    0.321914\n",
       "logistics      0.372807\n",
       "Name: female_share, dtype: float64"
      ]
     },
     "execution_count": 70,
     "metadata": {},
     "output_type": "execute_result"
    }
   ],
   "source": [
    "df[df.job_field.notnull()].groupby('job_field')['female_share'].mean().sort_values()"
   ]
  },
  {
   "cell_type": "code",
   "execution_count": null,
   "metadata": {},
   "outputs": [],
   "source": []
  },
  {
   "cell_type": "code",
   "execution_count": 71,
   "metadata": {},
   "outputs": [],
   "source": [
    "# compare gender decoded language and female share across job_position"
   ]
  },
  {
   "cell_type": "code",
   "execution_count": 72,
   "metadata": {},
   "outputs": [
    {
     "data": {
      "text/plain": [
       "array([nan, 'engineer', 'specialist', 'projectmanager', 'manager',\n",
       "       'developer', 'administrator_assistant', 'expert', 'technician',\n",
       "       'architect', 'consultant', 'designer', 'integrator'], dtype=object)"
      ]
     },
     "execution_count": 72,
     "metadata": {},
     "output_type": "execute_result"
    }
   ],
   "source": [
    "df.job_position.unique()"
   ]
  },
  {
   "cell_type": "code",
   "execution_count": 73,
   "metadata": {},
   "outputs": [
    {
     "data": {
      "text/plain": [
       "job_position\n",
       "designer                  -0.718310\n",
       "technician                 0.027778\n",
       "architect                  0.123457\n",
       "developer                  0.134831\n",
       "engineer                   0.223343\n",
       "administrator_assistant    0.318352\n",
       "expert                     0.486486\n",
       "integrator                 0.628571\n",
       "specialist                 0.882353\n",
       "projectmanager             1.025845\n",
       "manager                    1.039370\n",
       "consultant                 1.157895\n",
       "Name: combined_score, dtype: float64"
      ]
     },
     "execution_count": 73,
     "metadata": {},
     "output_type": "execute_result"
    }
   ],
   "source": [
    "df[df.job_position.notnull()].groupby('job_position')['combined_score'].mean().sort_values()"
   ]
  },
  {
   "cell_type": "code",
   "execution_count": 74,
   "metadata": {},
   "outputs": [
    {
     "data": {
      "text/plain": [
       "job_position\n",
       "technician                 0.060764\n",
       "integrator                 0.106122\n",
       "engineer                   0.111412\n",
       "architect                  0.127484\n",
       "designer                   0.133333\n",
       "projectmanager             0.155762\n",
       "developer                  0.159673\n",
       "expert                     0.191568\n",
       "consultant                 0.270142\n",
       "manager                    0.270486\n",
       "specialist                 0.389599\n",
       "administrator_assistant    0.756153\n",
       "Name: female_share, dtype: float64"
      ]
     },
     "execution_count": 74,
     "metadata": {},
     "output_type": "execute_result"
    }
   ],
   "source": [
    "df[df.job_position.notnull()].groupby('job_position')['female_share'].mean().sort_values()"
   ]
  },
  {
   "cell_type": "code",
   "execution_count": null,
   "metadata": {},
   "outputs": [],
   "source": []
  },
  {
   "cell_type": "code",
   "execution_count": 75,
   "metadata": {},
   "outputs": [],
   "source": [
    "# compare gender decoded language and female share across job_level"
   ]
  },
  {
   "cell_type": "code",
   "execution_count": 76,
   "metadata": {},
   "outputs": [
    {
     "data": {
      "text/plain": [
       "array([nan, 'team', 'leader', 'department', 'group', 'head', 'director',\n",
       "       'area'], dtype=object)"
      ]
     },
     "execution_count": 76,
     "metadata": {},
     "output_type": "execute_result"
    }
   ],
   "source": [
    "df.job_level.unique()"
   ]
  },
  {
   "cell_type": "code",
   "execution_count": 77,
   "metadata": {},
   "outputs": [
    {
     "data": {
      "text/plain": [
       "job_level\n",
       "area          0.739130\n",
       "department    0.785714\n",
       "team          0.915966\n",
       "leader        0.987952\n",
       "group         1.210084\n",
       "head          1.358056\n",
       "director      1.619048\n",
       "Name: combined_score, dtype: float64"
      ]
     },
     "execution_count": 77,
     "metadata": {},
     "output_type": "execute_result"
    }
   ],
   "source": [
    "df[df.job_level.notnull()].groupby('job_level')['combined_score'].mean().sort_values()"
   ]
  },
  {
   "cell_type": "code",
   "execution_count": 78,
   "metadata": {},
   "outputs": [
    {
     "data": {
      "text/plain": [
       "job_level\n",
       "department    0.071429\n",
       "leader        0.140135\n",
       "group         0.140379\n",
       "head          0.167160\n",
       "director      0.175057\n",
       "team          0.177624\n",
       "area          0.262319\n",
       "Name: female_share, dtype: float64"
      ]
     },
     "execution_count": 78,
     "metadata": {},
     "output_type": "execute_result"
    }
   ],
   "source": [
    "df[df.job_level.notnull()].groupby('job_level')['female_share'].mean().sort_values()"
   ]
  },
  {
   "cell_type": "code",
   "execution_count": null,
   "metadata": {},
   "outputs": [],
   "source": []
  },
  {
   "cell_type": "code",
   "execution_count": 79,
   "metadata": {},
   "outputs": [],
   "source": [
    "# compare gender decoded language and female share across job_rank"
   ]
  },
  {
   "cell_type": "code",
   "execution_count": 80,
   "metadata": {},
   "outputs": [
    {
     "data": {
      "text/plain": [
       "array([nan, 'clerk', 'junior', 'employee', 'advanced', 'executive',\n",
       "       'senior', 'associate '], dtype=object)"
      ]
     },
     "execution_count": 80,
     "metadata": {},
     "output_type": "execute_result"
    }
   ],
   "source": [
    "df.job_rank.unique()"
   ]
  },
  {
   "cell_type": "code",
   "execution_count": 81,
   "metadata": {},
   "outputs": [
    {
     "data": {
      "text/plain": [
       "job_rank\n",
       "junior        0.409836\n",
       "clerk         0.566372\n",
       "advanced      0.600000\n",
       "employee      0.751196\n",
       "senior        0.804688\n",
       "executive     1.576471\n",
       "associate     2.000000\n",
       "Name: combined_score, dtype: float64"
      ]
     },
     "execution_count": 81,
     "metadata": {},
     "output_type": "execute_result"
    }
   ],
   "source": [
    "df[df.job_rank.notnull()].groupby('job_rank')['combined_score'].mean().sort_values()"
   ]
  },
  {
   "cell_type": "code",
   "execution_count": 82,
   "metadata": {},
   "outputs": [
    {
     "data": {
      "text/plain": [
       "job_rank\n",
       "executive     0.145318\n",
       "senior        0.184358\n",
       "advanced      0.212738\n",
       "associate     0.250000\n",
       "employee      0.367629\n",
       "junior        0.432771\n",
       "clerk         0.557880\n",
       "Name: female_share, dtype: float64"
      ]
     },
     "execution_count": 82,
     "metadata": {},
     "output_type": "execute_result"
    }
   ],
   "source": [
    "df[df.job_rank.notnull()].groupby('job_rank')['female_share'].mean().sort_values()"
   ]
  },
  {
   "cell_type": "code",
   "execution_count": null,
   "metadata": {},
   "outputs": [],
   "source": []
  },
  {
   "cell_type": "code",
   "execution_count": 83,
   "metadata": {},
   "outputs": [
    {
     "data": {
      "text/plain": [
       "-4.0      83\n",
       "-3.0     180\n",
       "-2.0     514\n",
       "-1.0     638\n",
       " 0.0    1419\n",
       " 1.0    1106\n",
       " 2.0    1777\n",
       " 3.0     613\n",
       " 4.0     140\n",
       "Name: combined_score, dtype: int64"
      ]
     },
     "execution_count": 83,
     "metadata": {},
     "output_type": "execute_result"
    }
   ],
   "source": [
    "df.combined_score.value_counts().sort_index()"
   ]
  },
  {
   "cell_type": "code",
   "execution_count": null,
   "metadata": {},
   "outputs": [],
   "source": []
  },
  {
   "cell_type": "markdown",
   "metadata": {},
   "source": [
    "## A/B TESTING only focused on job_requirement "
   ]
  },
  {
   "attachments": {},
   "cell_type": "markdown",
   "metadata": {},
   "source": [
    "### Null Hypothesis: \n",
    "The distribution of female share of applications to jobs with masculine coded requirements is the same as that of female share of applications to jobs with non-masculine coded requirements; the difference in the two samples is just due to chance.\n",
    "\n",
    "### Alternative Hypothesis: \n",
    "The distribution of female share of applications to jobs with masculine coded requirements is different from that of female share of applications to jobs with non-masculine coded requirements.\n",
    "\n",
    "### Note: \n",
    "1. Masculine-coded job requirements are those that return positive scores after being passed in gender decoder; \n",
    "2. female share here is divided into two categories: 0 represents female share being equal or bigger than 0.5, 1 represents female share being less than 0.5."
   ]
  },
  {
   "cell_type": "code",
   "execution_count": 84,
   "metadata": {},
   "outputs": [],
   "source": [
    "# create another column called generalized_result,\n",
    "# 'masculine_coded' if job_requirement_score > 0 (masculine coded), \n",
    "# 'non_masculine_coded' if job_requirement_score <= 0 (neutral or feminine coded)\n",
    "df.loc[df.job_requirement_score > 0, 'generalized_result'] = 'masculine_coded'\n",
    "df.loc[df.job_requirement_score <= 0,'generalized_result'] = 'non_masculine_coded'"
   ]
  },
  {
   "cell_type": "code",
   "execution_count": 85,
   "metadata": {},
   "outputs": [
    {
     "data": {
      "text/plain": [
       "non_masculine_coded    3322\n",
       "masculine_coded        3148\n",
       "Name: generalized_result, dtype: int64"
      ]
     },
     "execution_count": 85,
     "metadata": {},
     "output_type": "execute_result"
    }
   ],
   "source": [
    "df.generalized_result.value_counts()"
   ]
  },
  {
   "cell_type": "code",
   "execution_count": 86,
   "metadata": {},
   "outputs": [],
   "source": [
    "# create another column called generalized_female_share\n",
    "# 1 if female_share < 0.5\n",
    "# 0 if female_share >= 0.5\n",
    "df.loc[df.female_share < 0.5, 'generalized_female_share'] = 1\n",
    "df.loc[df.female_share >= 0.5,'generalized_female_share'] = 0"
   ]
  },
  {
   "cell_type": "code",
   "execution_count": 87,
   "metadata": {},
   "outputs": [
    {
     "data": {
      "text/plain": [
       "1.0    4861\n",
       "0.0    1610\n",
       "Name: generalized_female_share, dtype: int64"
      ]
     },
     "execution_count": 87,
     "metadata": {},
     "output_type": "execute_result"
    }
   ],
   "source": [
    "df.generalized_female_share.value_counts()"
   ]
  },
  {
   "cell_type": "code",
   "execution_count": 88,
   "metadata": {},
   "outputs": [
    {
     "data": {
      "text/plain": [
       "generalized_result\n",
       "masculine_coded        0.781449\n",
       "non_masculine_coded    0.722456\n",
       "Name: generalized_female_share, dtype: float64"
      ]
     },
     "execution_count": 88,
     "metadata": {},
     "output_type": "execute_result"
    }
   ],
   "source": [
    "df.groupby('generalized_result')['generalized_female_share'].mean()"
   ]
  },
  {
   "attachments": {},
   "cell_type": "markdown",
   "metadata": {},
   "source": [
    "If the two group proportions are very different from each other, we will lean towards the alternative hypothesis that the two underlying distributions are different. So our test statistic will be the distance between the two group proportions, that is, the absolute value of the difference between them."
   ]
  },
  {
   "cell_type": "code",
   "execution_count": 172,
   "metadata": {},
   "outputs": [],
   "source": [
    "# function returning the test statistic\n",
    "def distance(data, share, group_label):\n",
    "    proportions = data.groupby(group_label)[share].mean()\n",
    "    return abs(proportions[1] - proportions[0])"
   ]
  },
  {
   "cell_type": "code",
   "execution_count": 213,
   "metadata": {},
   "outputs": [
    {
     "data": {
      "text/plain": [
       "0.058992187159340514"
      ]
     },
     "execution_count": 213,
     "metadata": {},
     "output_type": "execute_result"
    }
   ],
   "source": [
    "# observed test statistic\n",
    "observed_distance = distance(df, 'generalized_female_share', 'generalized_result')\n",
    "observed_distance"
   ]
  },
  {
   "cell_type": "code",
   "execution_count": 180,
   "metadata": {},
   "outputs": [
    {
     "data": {
      "text/html": [
       "<div>\n",
       "<style scoped>\n",
       "    .dataframe tbody tr th:only-of-type {\n",
       "        vertical-align: middle;\n",
       "    }\n",
       "\n",
       "    .dataframe tbody tr th {\n",
       "        vertical-align: top;\n",
       "    }\n",
       "\n",
       "    .dataframe thead th {\n",
       "        text-align: right;\n",
       "    }\n",
       "</style>\n",
       "<table border=\"1\" class=\"dataframe\">\n",
       "  <thead>\n",
       "    <tr style=\"text-align: right;\">\n",
       "      <th></th>\n",
       "      <th>generalized_result</th>\n",
       "      <th>generalized_female_share</th>\n",
       "    </tr>\n",
       "  </thead>\n",
       "  <tbody>\n",
       "    <tr>\n",
       "      <th>0</th>\n",
       "      <td>non_masculine_coded</td>\n",
       "      <td>1.0</td>\n",
       "    </tr>\n",
       "    <tr>\n",
       "      <th>1</th>\n",
       "      <td>non_masculine_coded</td>\n",
       "      <td>1.0</td>\n",
       "    </tr>\n",
       "    <tr>\n",
       "      <th>2</th>\n",
       "      <td>masculine_coded</td>\n",
       "      <td>0.0</td>\n",
       "    </tr>\n",
       "    <tr>\n",
       "      <th>3</th>\n",
       "      <td>masculine_coded</td>\n",
       "      <td>1.0</td>\n",
       "    </tr>\n",
       "    <tr>\n",
       "      <th>4</th>\n",
       "      <td>masculine_coded</td>\n",
       "      <td>1.0</td>\n",
       "    </tr>\n",
       "  </tbody>\n",
       "</table>\n",
       "</div>"
      ],
      "text/plain": [
       "    generalized_result  generalized_female_share\n",
       "0  non_masculine_coded                       1.0\n",
       "1  non_masculine_coded                       1.0\n",
       "2      masculine_coded                       0.0\n",
       "3      masculine_coded                       1.0\n",
       "4      masculine_coded                       1.0"
      ]
     },
     "execution_count": 180,
     "metadata": {},
     "output_type": "execute_result"
    }
   ],
   "source": [
    "data = df[['generalized_result','generalized_female_share']]\n",
    "data.head()"
   ]
  },
  {
   "cell_type": "code",
   "execution_count": 181,
   "metadata": {},
   "outputs": [],
   "source": [
    "generalized_result_array = np.array(data.generalized_result.values.tolist())"
   ]
  },
  {
   "cell_type": "code",
   "execution_count": 186,
   "metadata": {},
   "outputs": [],
   "source": [
    "# function returning one simulated test statistic by performing permutation\n",
    "\n",
    "def one_simulated_distance(data, share):\n",
    "    shuffled_array = np.random.choice(generalized_result_array, size = len(\n",
    "        generalized_result_array), replace = False)\n",
    "    shuffled_data = data.copy()\n",
    "    shuffled_data.loc[:,'shuffled_result'] = shuffled_array.tolist()\n",
    "    return distance(shuffled_data, share, 'shuffled_result') \n"
   ]
  },
  {
   "cell_type": "code",
   "execution_count": 189,
   "metadata": {},
   "outputs": [
    {
     "data": {
      "text/plain": [
       "0.003310493288362193"
      ]
     },
     "execution_count": 189,
     "metadata": {},
     "output_type": "execute_result"
    }
   ],
   "source": [
    "one_simulated_distance(data,'generalized_female_share')"
   ]
  },
  {
   "cell_type": "code",
   "execution_count": 208,
   "metadata": {},
   "outputs": [],
   "source": [
    "# performing 5000 simulations to get 5000 simulated test statistic\n",
    "\n",
    "distances = []\n",
    "repetitions = 5000\n",
    "for i in np.arange(repetitions):\n",
    "    new_distance = one_simulated_distance(data,'generalized_female_share')\n",
    "    distances.append(new_distance)\n",
    "distances = np.array(distances)"
   ]
  },
  {
   "cell_type": "code",
   "execution_count": 209,
   "metadata": {},
   "outputs": [
    {
     "data": {
      "text/plain": [
       "array([0.01630289, 0.00269181, 0.00040162, ..., 0.02205561, 0.00640392,\n",
       "       0.01772481])"
      ]
     },
     "execution_count": 209,
     "metadata": {},
     "output_type": "execute_result"
    }
   ],
   "source": [
    "distances"
   ]
  },
  {
   "cell_type": "code",
   "execution_count": 210,
   "metadata": {},
   "outputs": [
    {
     "data": {
      "text/plain": [
       "0.0"
      ]
     },
     "execution_count": 210,
     "metadata": {},
     "output_type": "execute_result"
    }
   ],
   "source": [
    "# get empirical p-value\n",
    "\n",
    "empirical_P = np.count_nonzero(distances >= observed_distance) / repetitions\n",
    "empirical_P"
   ]
  },
  {
   "cell_type": "code",
   "execution_count": 211,
   "metadata": {},
   "outputs": [
    {
     "name": "stdout",
     "output_type": "stream",
     "text": [
      "Observed Distance 0.058992187159340514\n",
      "Empirical P-value: 0.0 %\n"
     ]
    },
    {
     "data": {
      "image/png": "[encoded data removed]",
      "text/plain": [
       "<Figure size 432x288 with 1 Axes>"
      ]
     },
     "metadata": {
      "needs_background": "light"
     },
     "output_type": "display_data"
    }
   ],
   "source": [
    "pd.DataFrame(distances).hist();\n",
    "plt.scatter(observed_distance, 0, color='red', s=40);\n",
    "plt.title('Prediction Under the Null Hypothesis')\n",
    "print('Observed Distance', observed_distance)\n",
    "print('Empirical P-value:', round(empirical_P, 4) *100, '%')"
   ]
  },
  {
   "attachments": {},
   "cell_type": "markdown",
   "metadata": {},
   "source": [
    "Since the empirical p-value is very small, the result is statistically significant. The test favors the alternative hypothesis over the null. The evidence supports the hypothesis that masculine-coded job requirements are associated with low female share in job applications. \n",
    "\n",
    "Note that since this is not a randomized experiment where other variables are all controlled, this association does not imply causation."
   ]
  },
  {
   "cell_type": "code",
   "execution_count": null,
   "metadata": {},
   "outputs": [],
   "source": []
  }
 ],
 "metadata": {
  "kernelspec": {
   "display_name": "Python 3",
   "language": "python",
   "name": "python3"
  },
  "language_info": {
   "codemirror_mode": {
    "name": "ipython",
    "version": 3
   },
   "file_extension": ".py",
   "mimetype": "text/x-python",
   "name": "python",
   "nbconvert_exporter": "python",
   "pygments_lexer": "ipython3",
   "version": "3.7.3"
  }
 },
 "nbformat": 4,
 "nbformat_minor": 2
}
