{
 "cells": [
  {
   "cell_type": "code",
   "execution_count": 1,
   "metadata": {},
   "outputs": [],
   "source": [
    "import numpy as np\n",
    "import pandas as pd\n",
    "import re\n",
    "from collections import Counter"
   ]
  },
  {
   "cell_type": "code",
   "execution_count": 11,
   "metadata": {},
   "outputs": [],
   "source": [
    "df = pd.read_excel('/Users/dongxujia/Dropbox/DS-Discovery_GenderDiversity/04_Data/raw/jobads_20152017_applicants.xlsx')"
   ]
  },
  {
   "cell_type": "code",
   "execution_count": 12,
   "metadata": {},
   "outputs": [
    {
     "data": {
      "text/plain": [
       "(6471, 16)"
      ]
     },
     "execution_count": 12,
     "metadata": {},
     "output_type": "execute_result"
    }
   ],
   "source": [
    "df.shape"
   ]
  },
  {
   "cell_type": "code",
   "execution_count": 13,
   "metadata": {},
   "outputs": [
    {
     "data": {
      "text/plain": [
       "Index(['id', 'job_title_original', 'job_requirement_en', 'job_description_en',\n",
       "       'job_category', 'length_requirement', 'length_description',\n",
       "       'job_title_clean', 'job_field', 'job_position', 'job_level', 'job_rank',\n",
       "       'degree_vocational', 'degree_academic', 'total_candidates',\n",
       "       'female_share'],\n",
       "      dtype='object')"
      ]
     },
     "execution_count": 13,
     "metadata": {},
     "output_type": "execute_result"
    }
   ],
   "source": [
    "df.columns"
   ]
  },
  {
   "cell_type": "code",
   "execution_count": 14,
   "metadata": {},
   "outputs": [
    {
     "data": {
      "text/html": [
       "<div>\n",
       "<style scoped>\n",
       "    .dataframe tbody tr th:only-of-type {\n",
       "        vertical-align: middle;\n",
       "    }\n",
       "\n",
       "    .dataframe tbody tr th {\n",
       "        vertical-align: top;\n",
       "    }\n",
       "\n",
       "    .dataframe thead th {\n",
       "        text-align: right;\n",
       "    }\n",
       "</style>\n",
       "<table border=\"1\" class=\"dataframe\">\n",
       "  <thead>\n",
       "    <tr style=\"text-align: right;\">\n",
       "      <th></th>\n",
       "      <th>id</th>\n",
       "      <th>job_title_original</th>\n",
       "      <th>job_requirement_en</th>\n",
       "      <th>job_description_en</th>\n",
       "      <th>job_category</th>\n",
       "      <th>length_requirement</th>\n",
       "      <th>length_description</th>\n",
       "      <th>job_title_clean</th>\n",
       "      <th>job_field</th>\n",
       "      <th>job_position</th>\n",
       "      <th>job_level</th>\n",
       "      <th>job_rank</th>\n",
       "      <th>degree_vocational</th>\n",
       "      <th>degree_academic</th>\n",
       "      <th>total_candidates</th>\n",
       "      <th>female_share</th>\n",
       "    </tr>\n",
       "  </thead>\n",
       "  <tbody>\n",
       "    <tr>\n",
       "      <th>0</th>\n",
       "      <td>9</td>\n",
       "      <td>central sap key user sd for the area plt oe</td>\n",
       "      <td>maintenance and further development of the glo...</td>\n",
       "      <td>maintenance and further development of the glo...</td>\n",
       "      <td>marketing_and_sales</td>\n",
       "      <td>166</td>\n",
       "      <td>166</td>\n",
       "      <td>key user</td>\n",
       "      <td>NaN</td>\n",
       "      <td>NaN</td>\n",
       "      <td>NaN</td>\n",
       "      <td>NaN</td>\n",
       "      <td>0</td>\n",
       "      <td>1</td>\n",
       "      <td>1</td>\n",
       "      <td>0.0</td>\n",
       "    </tr>\n",
       "    <tr>\n",
       "      <th>1</th>\n",
       "      <td>46</td>\n",
       "      <td>system engineer automotive security privacy</td>\n",
       "      <td>university degree in computer science or equi...</td>\n",
       "      <td>university degree in computer science or equi...</td>\n",
       "      <td>engineering</td>\n",
       "      <td>83</td>\n",
       "      <td>83</td>\n",
       "      <td>engineer</td>\n",
       "      <td>system</td>\n",
       "      <td>engineer</td>\n",
       "      <td>NaN</td>\n",
       "      <td>NaN</td>\n",
       "      <td>0</td>\n",
       "      <td>1</td>\n",
       "      <td>1</td>\n",
       "      <td>0.0</td>\n",
       "    </tr>\n",
       "    <tr>\n",
       "      <th>2</th>\n",
       "      <td>1086</td>\n",
       "      <td>lnd_150110_transferstelle pd</td>\n",
       "      <td>development of platform components for adas sy...</td>\n",
       "      <td>development of platform components for adas sy...</td>\n",
       "      <td>engineering</td>\n",
       "      <td>250</td>\n",
       "      <td>250</td>\n",
       "      <td>missing</td>\n",
       "      <td>NaN</td>\n",
       "      <td>NaN</td>\n",
       "      <td>NaN</td>\n",
       "      <td>NaN</td>\n",
       "      <td>0</td>\n",
       "      <td>1</td>\n",
       "      <td>1</td>\n",
       "      <td>1.0</td>\n",
       "    </tr>\n",
       "    <tr>\n",
       "      <th>3</th>\n",
       "      <td>1663</td>\n",
       "      <td>logistic</td>\n",
       "      <td>logistic development and implementation of the...</td>\n",
       "      <td>logistic development and implementation of the...</td>\n",
       "      <td>manufacturing_operations_and_production</td>\n",
       "      <td>25</td>\n",
       "      <td>25</td>\n",
       "      <td>missing</td>\n",
       "      <td>NaN</td>\n",
       "      <td>NaN</td>\n",
       "      <td>NaN</td>\n",
       "      <td>NaN</td>\n",
       "      <td>0</td>\n",
       "      <td>0</td>\n",
       "      <td>1</td>\n",
       "      <td>0.0</td>\n",
       "    </tr>\n",
       "    <tr>\n",
       "      <th>4</th>\n",
       "      <td>1733</td>\n",
       "      <td>central key user manufacturing controlling suite</td>\n",
       "      <td>implement manufacturing accounting standard in...</td>\n",
       "      <td>implement manufacturing accounting standard in...</td>\n",
       "      <td>information_technology</td>\n",
       "      <td>123</td>\n",
       "      <td>123</td>\n",
       "      <td>key user</td>\n",
       "      <td>NaN</td>\n",
       "      <td>NaN</td>\n",
       "      <td>NaN</td>\n",
       "      <td>NaN</td>\n",
       "      <td>0</td>\n",
       "      <td>0</td>\n",
       "      <td>1</td>\n",
       "      <td>0.0</td>\n",
       "    </tr>\n",
       "  </tbody>\n",
       "</table>\n",
       "</div>"
      ],
      "text/plain": [
       "     id                                job_title_original  \\\n",
       "0     9       central sap key user sd for the area plt oe   \n",
       "1    46       system engineer automotive security privacy   \n",
       "2  1086                      lnd_150110_transferstelle pd   \n",
       "3  1663                                          logistic   \n",
       "4  1733  central key user manufacturing controlling suite   \n",
       "\n",
       "                                  job_requirement_en  \\\n",
       "0  maintenance and further development of the glo...   \n",
       "1   university degree in computer science or equi...   \n",
       "2  development of platform components for adas sy...   \n",
       "3  logistic development and implementation of the...   \n",
       "4  implement manufacturing accounting standard in...   \n",
       "\n",
       "                                  job_description_en  \\\n",
       "0  maintenance and further development of the glo...   \n",
       "1   university degree in computer science or equi...   \n",
       "2  development of platform components for adas sy...   \n",
       "3  logistic development and implementation of the...   \n",
       "4  implement manufacturing accounting standard in...   \n",
       "\n",
       "                              job_category  length_requirement  \\\n",
       "0                      marketing_and_sales                 166   \n",
       "1                              engineering                  83   \n",
       "2                              engineering                 250   \n",
       "3  manufacturing_operations_and_production                  25   \n",
       "4                   information_technology                 123   \n",
       "\n",
       "   length_description job_title_clean job_field job_position job_level  \\\n",
       "0                 166        key user       NaN          NaN       NaN   \n",
       "1                  83        engineer    system     engineer       NaN   \n",
       "2                 250         missing       NaN          NaN       NaN   \n",
       "3                  25         missing       NaN          NaN       NaN   \n",
       "4                 123        key user       NaN          NaN       NaN   \n",
       "\n",
       "  job_rank  degree_vocational  degree_academic  total_candidates  female_share  \n",
       "0      NaN                  0                1                 1           0.0  \n",
       "1      NaN                  0                1                 1           0.0  \n",
       "2      NaN                  0                1                 1           1.0  \n",
       "3      NaN                  0                0                 1           0.0  \n",
       "4      NaN                  0                0                 1           0.0  "
      ]
     },
     "execution_count": 14,
     "metadata": {},
     "output_type": "execute_result"
    }
   ],
   "source": [
    "df.head()"
   ]
  },
  {
   "cell_type": "markdown",
   "metadata": {},
   "source": [
    "# genderdecoder "
   ]
  },
  {
   "cell_type": "code",
   "execution_count": 15,
   "metadata": {},
   "outputs": [
    {
     "data": {
      "text/plain": [
       "'/Users/dongxujia/Desktop/Research'"
      ]
     },
     "execution_count": 15,
     "metadata": {},
     "output_type": "execute_result"
    }
   ],
   "source": [
    "import os \n",
    "os.getcwd()"
   ]
  },
  {
   "cell_type": "code",
   "execution_count": 16,
   "metadata": {},
   "outputs": [],
   "source": [
    "import sys\n",
    "sys.path.append('genderDecoder/')\n",
    "sys.path.append('genderDecoder/genderDecoder/')\n",
    "sys.path.append('genderDecoder/genderDecoder/assess')"
   ]
  },
  {
   "cell_type": "code",
   "execution_count": 17,
   "metadata": {},
   "outputs": [],
   "source": [
    "from genderDecoder import assess"
   ]
  },
  {
   "cell_type": "code",
   "execution_count": 18,
   "metadata": {},
   "outputs": [
    {
     "data": {
      "text/plain": [
       "{'result': 'masculine-coded',\n",
       " 'explanation': 'This job ad uses more words that are stereotypically masculine than words that are stereotypically feminine. It risks putting women off applying, but will probably encourage men to apply.',\n",
       " 'masculine_coded_words': ['independent', 'dominant', 'dominant', 'driven'],\n",
       " 'feminine_coded_words': ['interpersonal', 'interpersonal', 'polite']}"
      ]
     },
     "execution_count": 18,
     "metadata": {},
     "output_type": "execute_result"
    }
   ],
   "source": [
    "# example of genderDecoder\n",
    "\n",
    "assess(\"independent strong interpersonal dominant polite driven\")"
   ]
  },
  {
   "cell_type": "code",
   "execution_count": null,
   "metadata": {},
   "outputs": [],
   "source": []
  },
  {
   "cell_type": "code",
   "execution_count": null,
   "metadata": {},
   "outputs": [],
   "source": [
    "# the original word lists"
   ]
  },
  {
   "cell_type": "code",
   "execution_count": 28,
   "metadata": {},
   "outputs": [],
   "source": [
    "f = open('/Users/dongxujia/Desktop/Research/genderDecoder/genderDecoder/wordlists_v0.py', 'r')"
   ]
  },
  {
   "cell_type": "code",
   "execution_count": 29,
   "metadata": {},
   "outputs": [],
   "source": [
    "a = f.read()"
   ]
  },
  {
   "cell_type": "code",
   "execution_count": 30,
   "metadata": {},
   "outputs": [
    {
     "name": "stdout",
     "output_type": "stream",
     "text": [
      "feminine_coded_words = [\n",
      "    \"agree\",\n",
      "    \"affectionate\",\n",
      "    \"child\",\n",
      "    \"cheer\",\n",
      "    \"collab\",\n",
      "    \"commit\",\n",
      "    \"communal\",\n",
      "    \"compassion\",\n",
      "    \"connect\",\n",
      "    \"considerate\",\n",
      "    \"cooperat\",\n",
      "    \"co-operat\",\n",
      "    \"depend\",\n",
      "    \"emotiona\",\n",
      "    \"empath\",\n",
      "    \"feel\",\n",
      "    \"flatterable\",\n",
      "    \"gentle\",\n",
      "    \"honest\",\n",
      "    \"interpersonal\",\n",
      "    \"interdependen\",\n",
      "    \"interpersona\",\n",
      "    \"inter-personal\",\n",
      "    \"inter-dependen\",\n",
      "    \"inter-persona\",\n",
      "    \"kind\",\n",
      "    \"kinship\",\n",
      "    \"loyal\",\n",
      "    \"modesty\",\n",
      "    \"nag\",\n",
      "    \"nurtur\",\n",
      "    \"pleasant\",\n",
      "    \"polite\",\n",
      "    \"quiet\",\n",
      "    \"respon\",\n",
      "    \"sensitiv\",\n",
      "    \"submissive\",\n",
      "    \"support\",\n",
      "    \"sympath\",\n",
      "    \"tender\",\n",
      "    \"together\",\n",
      "    \"trust\",\n",
      "    \"understand\",\n",
      "    \"warm\",\n",
      "    \"whin\",\n",
      "    \"enthusias\",\n",
      "    \"inclusive\",\n",
      "    \"yield\",\n",
      "    \"shar\"]\n",
      "\n",
      "masculine_coded_words = [\n",
      "    \"active\",\n",
      "    \"adventurous\",\n",
      "    \"aggress\",\n",
      "    \"ambitio\",\n",
      "    \"analy\",\n",
      "    \"assert\",\n",
      "    \"athlet\",\n",
      "    \"autonom\",\n",
      "    \"battle\",\n",
      "    \"boast\",\n",
      "    \"challeng\",\n",
      "    \"champion\",\n",
      "    \"compet\",\n",
      "    \"confident\",\n",
      "    \"courag\",\n",
      "    \"decid\",\n",
      "    \"decision\",\n",
      "    \"decisive\",\n",
      "    \"defend\",\n",
      "    \"determin\",\n",
      "    \"domina\",\n",
      "    \"dominant\",\n",
      "    \"driven\",\n",
      "    \"fearless\",\n",
      "    \"fight\",\n",
      "    \"force\",\n",
      "    \"greedy\",\n",
      "    \"head-strong\",\n",
      "    \"headstrong\",\n",
      "    \"hierarch\",\n",
      "    \"hostil\",\n",
      "    \"implusive\",\n",
      "    \"independen\",\n",
      "    \"individual\",\n",
      "    \"intellect\",\n",
      "    \"lead\",\n",
      "    \"logic\",\n",
      "    \"objective\",\n",
      "    \"opinion\",\n",
      "    \"outspoken\",\n",
      "    \"persist\",\n",
      "    \"principle\",\n",
      "    \"reckless\",\n",
      "    \"self-confiden\",\n",
      "    \"self-relian\",\n",
      "    \"self-sufficien\",\n",
      "    \"selfconfiden\",\n",
      "    \"selfrelian\",\n",
      "    \"selfsufficien\",\n",
      "    \"stubborn\",\n",
      "    \"superior\",\n",
      "    \"unreasonab\"]\n",
      "\n"
     ]
    }
   ],
   "source": [
    "print(a)"
   ]
  },
  {
   "cell_type": "code",
   "execution_count": 31,
   "metadata": {},
   "outputs": [],
   "source": [
    "f.close()"
   ]
  },
  {
   "cell_type": "code",
   "execution_count": 32,
   "metadata": {},
   "outputs": [],
   "source": [
    "feminine_coded_words = [\n",
    "    \"agree\",\n",
    "    \"affectionate\",\n",
    "    \"child\",\n",
    "    \"cheer\",\n",
    "    \"collab\",\n",
    "    \"commit\",\n",
    "    \"communal\",\n",
    "    \"compassion\",\n",
    "    \"connect\",\n",
    "    \"considerate\",\n",
    "    \"cooperat\",\n",
    "    \"co-operat\",\n",
    "    \"depend\",\n",
    "    \"emotiona\",\n",
    "    \"empath\",\n",
    "    \"feel\",\n",
    "    \"flatterable\",\n",
    "    \"gentle\",\n",
    "    \"honest\",\n",
    "    \"interpersonal\",\n",
    "    \"interdependen\",\n",
    "    \"interpersona\",\n",
    "    \"inter-personal\",\n",
    "    \"inter-dependen\",\n",
    "    \"inter-persona\",\n",
    "    \"kind\",\n",
    "    \"kinship\",\n",
    "    \"loyal\",\n",
    "    \"modesty\",\n",
    "    \"nag\",\n",
    "    \"nurtur\",\n",
    "    \"pleasant\",\n",
    "    \"polite\",\n",
    "    \"quiet\",\n",
    "    \"respon\",\n",
    "    \"sensitiv\",\n",
    "    \"submissive\",\n",
    "    \"support\",\n",
    "    \"sympath\",\n",
    "    \"tender\",\n",
    "    \"together\",\n",
    "    \"trust\",\n",
    "    \"understand\",\n",
    "    \"warm\",\n",
    "    \"whin\",\n",
    "    \"enthusias\",\n",
    "    \"inclusive\",\n",
    "    \"yield\",\n",
    "    \"shar\"]"
   ]
  },
  {
   "cell_type": "code",
   "execution_count": 33,
   "metadata": {},
   "outputs": [],
   "source": [
    "masculine_coded_words = [\n",
    "    \"active\",\n",
    "    \"adventurous\",\n",
    "    \"aggress\",\n",
    "    \"ambitio\",\n",
    "    \"analy\",\n",
    "    \"assert\",\n",
    "    \"athlet\",\n",
    "    \"autonom\",\n",
    "    \"battle\",\n",
    "    \"boast\",\n",
    "    \"challeng\",\n",
    "    \"champion\",\n",
    "    \"compet\",\n",
    "    \"confident\",\n",
    "    \"courag\",\n",
    "    \"decid\",\n",
    "    \"decision\",\n",
    "    \"decisive\",\n",
    "    \"defend\",\n",
    "    \"determin\",\n",
    "    \"domina\",\n",
    "    \"dominant\",\n",
    "    \"driven\",\n",
    "    \"fearless\",\n",
    "    \"fight\",\n",
    "    \"force\",\n",
    "    \"greedy\",\n",
    "    \"head-strong\",\n",
    "    \"headstrong\",\n",
    "    \"hierarch\",\n",
    "    \"hostil\",\n",
    "    \"implusive\",\n",
    "    \"independen\",\n",
    "    \"individual\",\n",
    "    \"intellect\",\n",
    "    \"lead\",\n",
    "    \"logic\",\n",
    "    \"objective\",\n",
    "    \"opinion\",\n",
    "    \"outspoken\",\n",
    "    \"persist\",\n",
    "    \"principle\",\n",
    "    \"reckless\",\n",
    "    \"self-confiden\",\n",
    "    \"self-relian\",\n",
    "    \"self-sufficien\",\n",
    "    \"selfconfiden\",\n",
    "    \"selfrelian\",\n",
    "    \"selfsufficien\",\n",
    "    \"stubborn\",\n",
    "    \"superior\",\n",
    "    \"unreasonab\"]"
   ]
  },
  {
   "cell_type": "code",
   "execution_count": null,
   "metadata": {},
   "outputs": [],
   "source": [
    "# some modifications"
   ]
  },
  {
   "cell_type": "code",
   "execution_count": 35,
   "metadata": {},
   "outputs": [],
   "source": [
    "remove_female = [\n",
    "    \"agree\",\n",
    "    \"commit\",\n",
    "    \"feel\",\n",
    "    \"support\",\n",
    "    \"enthusias\",\n",
    "    \"yield\"]"
   ]
  },
  {
   "cell_type": "code",
   "execution_count": 36,
   "metadata": {},
   "outputs": [],
   "source": [
    "add_female = [\n",
    "    \"team\",\n",
    "    \"communicat\",\n",
    "    \"flexib\",\n",
    "    \"team-player\",\n",
    "    \"team-capability\"\n",
    "]"
   ]
  },
  {
   "cell_type": "code",
   "execution_count": 37,
   "metadata": {},
   "outputs": [],
   "source": [
    "remove_male = [\n",
    "    \"unreasonab\"]"
   ]
  },
  {
   "cell_type": "code",
   "execution_count": 38,
   "metadata": {},
   "outputs": [],
   "source": [
    "add_male = [\n",
    "    \"self-driven\",\n",
    "    \"selfdriven\",\n",
    "    \"self-motivated\",\n",
    "    \"selfmotivated\",\n",
    "    \"problem-solving\",\n",
    "    \"mathematical\",\n",
    "    \"leadership\",\n",
    "    \"maintain\",\n",
    "    \"manage\",\n",
    "    \"monitor\",\n",
    "    \"strateg\",\n",
    "    \"travel\",\n",
    "    \"supervis\",\n",
    "    \"proactive\",\n",
    "    \"pressure\"\n",
    "]"
   ]
  },
  {
   "cell_type": "code",
   "execution_count": 44,
   "metadata": {},
   "outputs": [],
   "source": [
    "feminine_coded_words.extend(add_female)"
   ]
  },
  {
   "cell_type": "code",
   "execution_count": 49,
   "metadata": {},
   "outputs": [],
   "source": [
    "for x in remove_female:\n",
    "    feminine_coded_words.remove(x)"
   ]
  },
  {
   "cell_type": "code",
   "execution_count": 51,
   "metadata": {},
   "outputs": [],
   "source": [
    "masculine_coded_words.extend(add_male)"
   ]
  },
  {
   "cell_type": "code",
   "execution_count": 52,
   "metadata": {},
   "outputs": [],
   "source": [
    "for z in remove_male:\n",
    "    masculine_coded_words.remove(z)"
   ]
  },
  {
   "cell_type": "code",
   "execution_count": 55,
   "metadata": {},
   "outputs": [
    {
     "data": {
      "text/plain": [
       "['affectionate',\n",
       " 'child',\n",
       " 'cheer',\n",
       " 'collab',\n",
       " 'communal',\n",
       " 'compassion',\n",
       " 'connect',\n",
       " 'considerate',\n",
       " 'cooperat',\n",
       " 'co-operat',\n",
       " 'depend',\n",
       " 'emotiona',\n",
       " 'empath',\n",
       " 'flatterable',\n",
       " 'gentle',\n",
       " 'honest',\n",
       " 'interpersonal',\n",
       " 'interdependen',\n",
       " 'interpersona',\n",
       " 'inter-personal',\n",
       " 'inter-dependen',\n",
       " 'inter-persona',\n",
       " 'kind',\n",
       " 'kinship',\n",
       " 'loyal',\n",
       " 'modesty',\n",
       " 'nag',\n",
       " 'nurtur',\n",
       " 'pleasant',\n",
       " 'polite',\n",
       " 'quiet',\n",
       " 'respon',\n",
       " 'sensitiv',\n",
       " 'submissive',\n",
       " 'sympath',\n",
       " 'tender',\n",
       " 'together',\n",
       " 'trust',\n",
       " 'understand',\n",
       " 'warm',\n",
       " 'whin',\n",
       " 'inclusive',\n",
       " 'shar',\n",
       " 'team',\n",
       " 'communicat',\n",
       " 'flexib']"
      ]
     },
     "execution_count": 55,
     "metadata": {},
     "output_type": "execute_result"
    }
   ],
   "source": [
    "feminine_coded_words"
   ]
  },
  {
   "cell_type": "code",
   "execution_count": 56,
   "metadata": {},
   "outputs": [
    {
     "data": {
      "text/plain": [
       "['active',\n",
       " 'adventurous',\n",
       " 'aggress',\n",
       " 'ambitio',\n",
       " 'analy',\n",
       " 'assert',\n",
       " 'athlet',\n",
       " 'autonom',\n",
       " 'battle',\n",
       " 'boast',\n",
       " 'challeng',\n",
       " 'champion',\n",
       " 'compet',\n",
       " 'confident',\n",
       " 'courag',\n",
       " 'decid',\n",
       " 'decision',\n",
       " 'decisive',\n",
       " 'defend',\n",
       " 'determin',\n",
       " 'domina',\n",
       " 'dominant',\n",
       " 'driven',\n",
       " 'fearless',\n",
       " 'fight',\n",
       " 'force',\n",
       " 'greedy',\n",
       " 'head-strong',\n",
       " 'headstrong',\n",
       " 'hierarch',\n",
       " 'hostil',\n",
       " 'implusive',\n",
       " 'independen',\n",
       " 'individual',\n",
       " 'intellect',\n",
       " 'lead',\n",
       " 'logic',\n",
       " 'objective',\n",
       " 'opinion',\n",
       " 'outspoken',\n",
       " 'persist',\n",
       " 'principle',\n",
       " 'reckless',\n",
       " 'self-confiden',\n",
       " 'self-relian',\n",
       " 'self-sufficien',\n",
       " 'selfconfiden',\n",
       " 'selfrelian',\n",
       " 'selfsufficien',\n",
       " 'stubborn',\n",
       " 'superior',\n",
       " 'self-driven',\n",
       " 'selfdriven',\n",
       " 'self-motivated',\n",
       " 'selfmotivated',\n",
       " 'team-player',\n",
       " 'team-capability',\n",
       " 'problem-solvingmathematical',\n",
       " 'leadership',\n",
       " 'maintain',\n",
       " 'manage',\n",
       " 'monitor',\n",
       " 'strateg',\n",
       " 'travel',\n",
       " 'supervis',\n",
       " 'proactive',\n",
       " 'pressure']"
      ]
     },
     "execution_count": 56,
     "metadata": {},
     "output_type": "execute_result"
    }
   ],
   "source": [
    "masculine_coded_words"
   ]
  },
  {
   "cell_type": "code",
   "execution_count": 54,
   "metadata": {},
   "outputs": [],
   "source": [
    "# construct a new wordslist.py in the folder using the updated two lists"
   ]
  },
  {
   "cell_type": "code",
   "execution_count": null,
   "metadata": {},
   "outputs": [],
   "source": []
  },
  {
   "cell_type": "code",
   "execution_count": null,
   "metadata": {},
   "outputs": [],
   "source": [
    "#apply gender decoder on job_requirements and job_description separately"
   ]
  },
  {
   "cell_type": "code",
   "execution_count": 57,
   "metadata": {},
   "outputs": [],
   "source": [
    "df['job_requirement_decoder'] = df.job_requirement_en.dropna().apply(assess)"
   ]
  },
  {
   "cell_type": "code",
   "execution_count": 58,
   "metadata": {},
   "outputs": [
    {
     "data": {
      "text/plain": [
       "False    6470\n",
       "True        1\n",
       "Name: job_requirement_decoder, dtype: int64"
      ]
     },
     "execution_count": 58,
     "metadata": {},
     "output_type": "execute_result"
    }
   ],
   "source": [
    "# 1 row has null value\n",
    "\n",
    "df.job_requirement_decoder.isnull().value_counts()"
   ]
  },
  {
   "cell_type": "code",
   "execution_count": 59,
   "metadata": {},
   "outputs": [],
   "source": [
    "df['job_requirement_result'] = df[\n",
    "    'job_requirement_decoder'].dropna().apply(lambda x: x.get('result'))\n",
    "df['job_requirement_masculine_coded_words'] = df[\n",
    "    'job_requirement_decoder'].dropna().apply(lambda x: x.get('masculine_coded_words'))\n",
    "df['job_requirement_feminine_coded_words'] = df[\n",
    "    'job_requirement_decoder'].dropna().apply(lambda x: x.get('feminine_coded_words'))"
   ]
  },
  {
   "cell_type": "code",
   "execution_count": 61,
   "metadata": {},
   "outputs": [],
   "source": [
    "df['job_description_decoder'] = df.job_description_en.dropna().apply(assess)"
   ]
  },
  {
   "cell_type": "code",
   "execution_count": 62,
   "metadata": {},
   "outputs": [
    {
     "data": {
      "text/plain": [
       "False    6470\n",
       "True        1\n",
       "Name: job_description_decoder, dtype: int64"
      ]
     },
     "execution_count": 62,
     "metadata": {},
     "output_type": "execute_result"
    }
   ],
   "source": [
    "# 1 row has null value\n",
    "\n",
    "df.job_description_decoder.isnull().value_counts()"
   ]
  },
  {
   "cell_type": "code",
   "execution_count": 66,
   "metadata": {},
   "outputs": [],
   "source": [
    "df['job_description_result'] = df[\n",
    "    'job_description_decoder'].dropna().apply(lambda x: x.get('result'))\n",
    "df['job_description_masculine_coded_words'] = df[\n",
    "    'job_description_decoder'].dropna().apply(lambda x: x.get('masculine_coded_words'))\n",
    "df['job_description_feminine_coded_words'] = df[\n",
    "    'job_description_decoder'].dropna().apply(lambda x: x.get('feminine_coded_words'))"
   ]
  },
  {
   "cell_type": "code",
   "execution_count": 72,
   "metadata": {},
   "outputs": [],
   "source": [
    "# this entry has neither job_requirement nor job_description"
   ]
  },
  {
   "cell_type": "code",
   "execution_count": 71,
   "metadata": {},
   "outputs": [
    {
     "data": {
      "text/html": [
       "<div>\n",
       "<style scoped>\n",
       "    .dataframe tbody tr th:only-of-type {\n",
       "        vertical-align: middle;\n",
       "    }\n",
       "\n",
       "    .dataframe tbody tr th {\n",
       "        vertical-align: top;\n",
       "    }\n",
       "\n",
       "    .dataframe thead th {\n",
       "        text-align: right;\n",
       "    }\n",
       "</style>\n",
       "<table border=\"1\" class=\"dataframe\">\n",
       "  <thead>\n",
       "    <tr style=\"text-align: right;\">\n",
       "      <th></th>\n",
       "      <th>id</th>\n",
       "      <th>job_title_original</th>\n",
       "      <th>job_requirement_en</th>\n",
       "      <th>job_description_en</th>\n",
       "      <th>job_category</th>\n",
       "      <th>length_requirement</th>\n",
       "      <th>length_description</th>\n",
       "      <th>job_title_clean</th>\n",
       "      <th>job_field</th>\n",
       "      <th>job_position</th>\n",
       "      <th>...</th>\n",
       "      <th>total_candidates</th>\n",
       "      <th>female_share</th>\n",
       "      <th>job_requirement_decoder</th>\n",
       "      <th>job_requirement_result</th>\n",
       "      <th>job_requirement_masculine_coded_words</th>\n",
       "      <th>job_requirement_feminine_coded_words</th>\n",
       "      <th>job_description_decoder</th>\n",
       "      <th>job_description_result</th>\n",
       "      <th>job_description_masculine_coded_words</th>\n",
       "      <th>job_description_feminine_coded_words</th>\n",
       "    </tr>\n",
       "  </thead>\n",
       "  <tbody>\n",
       "    <tr>\n",
       "      <th>8</th>\n",
       "      <td>2264</td>\n",
       "      <td>leader platform team</td>\n",
       "      <td>NaN</td>\n",
       "      <td>NaN</td>\n",
       "      <td>engineering</td>\n",
       "      <td>0</td>\n",
       "      <td>0</td>\n",
       "      <td>leader</td>\n",
       "      <td>NaN</td>\n",
       "      <td>NaN</td>\n",
       "      <td>...</td>\n",
       "      <td>1</td>\n",
       "      <td>0.0</td>\n",
       "      <td>NaN</td>\n",
       "      <td>NaN</td>\n",
       "      <td>NaN</td>\n",
       "      <td>NaN</td>\n",
       "      <td>NaN</td>\n",
       "      <td>NaN</td>\n",
       "      <td>NaN</td>\n",
       "      <td>NaN</td>\n",
       "    </tr>\n",
       "  </tbody>\n",
       "</table>\n",
       "<p>1 rows × 24 columns</p>\n",
       "</div>"
      ],
      "text/plain": [
       "     id     job_title_original job_requirement_en job_description_en  \\\n",
       "8  2264  leader platform team                 NaN                NaN   \n",
       "\n",
       "  job_category  length_requirement  length_description job_title_clean  \\\n",
       "8  engineering                   0                   0          leader   \n",
       "\n",
       "  job_field job_position  ... total_candidates female_share  \\\n",
       "8       NaN          NaN  ...                1          0.0   \n",
       "\n",
       "   job_requirement_decoder  job_requirement_result  \\\n",
       "8                      NaN                     NaN   \n",
       "\n",
       "   job_requirement_masculine_coded_words  \\\n",
       "8                                    NaN   \n",
       "\n",
       "   job_requirement_feminine_coded_words job_description_decoder  \\\n",
       "8                                   NaN                     NaN   \n",
       "\n",
       "  job_description_result job_description_masculine_coded_words  \\\n",
       "8                    NaN                                   NaN   \n",
       "\n",
       "  job_description_feminine_coded_words  \n",
       "8                                  NaN  \n",
       "\n",
       "[1 rows x 24 columns]"
      ]
     },
     "execution_count": 71,
     "metadata": {},
     "output_type": "execute_result"
    }
   ],
   "source": [
    "df[(df.job_description_decoder.isnull()) | (df.job_requirement_decoder.isnull())]"
   ]
  },
  {
   "cell_type": "code",
   "execution_count": null,
   "metadata": {},
   "outputs": [],
   "source": []
  },
  {
   "cell_type": "code",
   "execution_count": 73,
   "metadata": {},
   "outputs": [
    {
     "data": {
      "text/plain": [
       "array(['feminine-coded', 'strongly masculine-coded',\n",
       "       'strongly feminine-coded', 'neutral', nan, 'masculine-coded'],\n",
       "      dtype=object)"
      ]
     },
     "execution_count": 73,
     "metadata": {},
     "output_type": "execute_result"
    }
   ],
   "source": [
    "df.job_requirement_result.unique()"
   ]
  },
  {
   "cell_type": "code",
   "execution_count": 74,
   "metadata": {},
   "outputs": [
    {
     "data": {
      "text/plain": [
       "strongly masculine-coded    2791\n",
       "neutral                     1907\n",
       "masculine-coded              892\n",
       "strongly feminine-coded      547\n",
       "feminine-coded               333\n",
       "Name: job_requirement_result, dtype: int64"
      ]
     },
     "execution_count": 74,
     "metadata": {},
     "output_type": "execute_result"
    }
   ],
   "source": [
    "# count results for job_requirement\n",
    "\n",
    "df.job_requirement_result.value_counts()"
   ]
  },
  {
   "cell_type": "code",
   "execution_count": 75,
   "metadata": {},
   "outputs": [
    {
     "data": {
      "text/plain": [
       "feminine-coded              1960\n",
       "strongly feminine-coded     1432\n",
       "neutral                     1301\n",
       "masculine-coded             1199\n",
       "strongly masculine-coded     578\n",
       "Name: job_description_result, dtype: int64"
      ]
     },
     "execution_count": 75,
     "metadata": {},
     "output_type": "execute_result"
    }
   ],
   "source": [
    "# count results for job_description\n",
    "\n",
    "df.job_description_result.value_counts()"
   ]
  },
  {
   "cell_type": "code",
   "execution_count": null,
   "metadata": {},
   "outputs": [],
   "source": []
  },
  {
   "cell_type": "code",
   "execution_count": 76,
   "metadata": {},
   "outputs": [],
   "source": [
    "# create numerical value mapping for the result, \n",
    "decoder_result_mapping = {\n",
    "    \"strongly feminine-coded\" : -2, \n",
    "    \"feminine-coded\" : -1,\n",
    "    \"neutral\": 0,\n",
    "    \"masculine-coded\": 1,\n",
    "    \"strongly masculine-coded\": 2}"
   ]
  },
  {
   "cell_type": "code",
   "execution_count": 77,
   "metadata": {},
   "outputs": [],
   "source": [
    "# Assign a score for each entry's job_requirement_result and job_description_result\n",
    "\n",
    "df['job_requirement_score'] = df.job_requirement_result.map(decoder_result_mapping)"
   ]
  },
  {
   "cell_type": "code",
   "execution_count": 78,
   "metadata": {},
   "outputs": [],
   "source": [
    "df['job_description_score'] = df.job_description_result.map(decoder_result_mapping).astype(float)"
   ]
  },
  {
   "cell_type": "code",
   "execution_count": 79,
   "metadata": {},
   "outputs": [
    {
     "data": {
      "text/plain": [
       "0.6280327615515376"
      ]
     },
     "execution_count": 79,
     "metadata": {},
     "output_type": "execute_result"
    }
   ],
   "source": [
    "df[df['job_requirement_score'] > df['job_description_score']].shape[0]/df.shape[0]"
   ]
  },
  {
   "cell_type": "code",
   "execution_count": null,
   "metadata": {},
   "outputs": [],
   "source": [
    "# About 63% of the entries have a higher job_requirement_score, \n",
    "# which means their job_requirement are more masculine_coded than their job_description"
   ]
  },
  {
   "cell_type": "code",
   "execution_count": null,
   "metadata": {},
   "outputs": [],
   "source": []
  },
  {
   "cell_type": "code",
   "execution_count": null,
   "metadata": {},
   "outputs": [],
   "source": [
    "# adding the two scores together for each entry"
   ]
  },
  {
   "cell_type": "code",
   "execution_count": 80,
   "metadata": {},
   "outputs": [],
   "source": [
    "# combine ench entry's job_requirement_result with job_description_result\n",
    "\n",
    "df['combined_score'] = df.job_requirement_score + df.job_description_score"
   ]
  },
  {
   "cell_type": "code",
   "execution_count": 81,
   "metadata": {},
   "outputs": [
    {
     "data": {
      "text/plain": [
       " 0.0    1474\n",
       " 1.0    1275\n",
       " 2.0     925\n",
       "-2.0     754\n",
       "-1.0     749\n",
       " 3.0     594\n",
       " 4.0     317\n",
       "-4.0     194\n",
       "-3.0     188\n",
       "Name: combined_score, dtype: int64"
      ]
     },
     "execution_count": 81,
     "metadata": {},
     "output_type": "execute_result"
    }
   ],
   "source": [
    "df.combined_score.value_counts()"
   ]
  },
  {
   "cell_type": "code",
   "execution_count": 83,
   "metadata": {},
   "outputs": [
    {
     "data": {
      "image/png": "[encoded data removed]",
      "text/plain": [
       "<Figure size 432x288 with 1 Axes>"
      ]
     },
     "metadata": {
      "needs_background": "light"
     },
     "output_type": "display_data"
    }
   ],
   "source": [
    "df.hist(column = 'combined_score',bins = 24);"
   ]
  },
  {
   "cell_type": "code",
   "execution_count": 104,
   "metadata": {},
   "outputs": [
    {
     "data": {
      "text/plain": [
       "combined_score\n",
       "-4.0    0.246686\n",
       "-3.0    0.217190\n",
       "-2.0    0.259877\n",
       "-1.0    0.224429\n",
       " 0.0    0.246484\n",
       " 1.0    0.227045\n",
       " 2.0    0.240139\n",
       " 3.0    0.239784\n",
       " 4.0    0.268720\n",
       "Name: female_share, dtype: float64"
      ]
     },
     "execution_count": 104,
     "metadata": {},
     "output_type": "execute_result"
    }
   ],
   "source": [
    "df.groupby('combined_score')['female_share'].mean()"
   ]
  },
  {
   "cell_type": "code",
   "execution_count": 106,
   "metadata": {},
   "outputs": [
    {
     "data": {
      "text/plain": [
       "job_requirement_score\n",
       "-2.0    0.235279\n",
       "-1.0    0.240899\n",
       " 0.0    0.246402\n",
       " 1.0    0.205213\n",
       " 2.0    0.248449\n",
       "Name: female_share, dtype: float64"
      ]
     },
     "execution_count": 106,
     "metadata": {},
     "output_type": "execute_result"
    }
   ],
   "source": [
    "df.groupby('job_requirement_score')['female_share'].mean()"
   ]
  },
  {
   "cell_type": "code",
   "execution_count": 107,
   "metadata": {},
   "outputs": [
    {
     "data": {
      "text/plain": [
       "job_description_score\n",
       "-2.0    0.248905\n",
       "-1.0    0.228703\n",
       " 0.0    0.258598\n",
       " 1.0    0.226526\n",
       " 2.0    0.246620\n",
       "Name: female_share, dtype: float64"
      ]
     },
     "execution_count": 107,
     "metadata": {},
     "output_type": "execute_result"
    }
   ],
   "source": [
    "df.groupby('job_description_score')['female_share'].mean()"
   ]
  },
  {
   "cell_type": "code",
   "execution_count": null,
   "metadata": {},
   "outputs": [],
   "source": []
  }
 ],
 "metadata": {
  "kernelspec": {
   "display_name": "Python 3",
   "language": "python",
   "name": "python3"
  },
  "language_info": {
   "codemirror_mode": {
    "name": "ipython",
    "version": 3
   },
   "file_extension": ".py",
   "mimetype": "text/x-python",
   "name": "python",
   "nbconvert_exporter": "python",
   "pygments_lexer": "ipython3",
   "version": "3.7.3"
  }
 },
 "nbformat": 4,
 "nbformat_minor": 2
}
