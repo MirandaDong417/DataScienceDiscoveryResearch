{
 "cells": [
  {
   "cell_type": "markdown",
   "metadata": {},
   "source": [
    "# Code_v1_extract "
   ]
  },
  {
   "cell_type": "markdown",
   "metadata": {},
   "source": [
    "The goal of our first coding step is to read in the data, preprocess it and extract preliminary information. "
   ]
  },
  {
   "cell_type": "markdown",
   "metadata": {},
   "source": [
    "## Prepare"
   ]
  },
  {
   "cell_type": "code",
   "execution_count": 1,
   "metadata": {},
   "outputs": [],
   "source": [
    "import numpy as np\n",
    "import pandas as pd\n",
    "import re\n",
    "from collections import Counter"
   ]
  },
  {
   "cell_type": "markdown",
   "metadata": {},
   "source": [
    "### Load Data"
   ]
  },
  {
   "cell_type": "code",
   "execution_count": 2,
   "metadata": {},
   "outputs": [],
   "source": [
    "data= pd.read_excel('/Users/dongxujia/Dropbox/DS-Discovery_GenderDiversity/04_Data/raw/data_jobads.xlsx',nrows = 200)"
   ]
  },
  {
   "cell_type": "markdown",
   "metadata": {},
   "source": [
    "### Check Data"
   ]
  },
  {
   "cell_type": "code",
   "execution_count": 3,
   "metadata": {},
   "outputs": [
    {
     "data": {
      "text/plain": [
       "['id', 'job_title', 'job_description', 'job_requirement']"
      ]
     },
     "execution_count": 3,
     "metadata": {},
     "output_type": "execute_result"
    }
   ],
   "source": [
    "# Check variables in dataset\n",
    "list(data)"
   ]
  },
  {
   "cell_type": "code",
   "execution_count": 4,
   "metadata": {},
   "outputs": [
    {
     "data": {
      "text/html": [
       "<div>\n",
       "<style scoped>\n",
       "    .dataframe tbody tr th:only-of-type {\n",
       "        vertical-align: middle;\n",
       "    }\n",
       "\n",
       "    .dataframe tbody tr th {\n",
       "        vertical-align: top;\n",
       "    }\n",
       "\n",
       "    .dataframe thead th {\n",
       "        text-align: right;\n",
       "    }\n",
       "</style>\n",
       "<table border=\"1\" class=\"dataframe\">\n",
       "  <thead>\n",
       "    <tr style=\"text-align: right;\">\n",
       "      <th></th>\n",
       "      <th>id</th>\n",
       "      <th>job_title</th>\n",
       "      <th>job_description</th>\n",
       "      <th>job_requirement</th>\n",
       "    </tr>\n",
       "  </thead>\n",
       "  <tbody>\n",
       "    <tr>\n",
       "      <th>0</th>\n",
       "      <td>1</td>\n",
       "      <td>Group Leader „Compound Portfolio“ CVT (m/f)</td>\n",
       "      <td>Strategic steering and leading of the \"Portfo...</td>\n",
       "      <td>Academic degree in engineering, natural scien...</td>\n",
       "    </tr>\n",
       "    <tr>\n",
       "      <th>1</th>\n",
       "      <td>2</td>\n",
       "      <td>Vehicle System Engineer (m/w)</td>\n",
       "      <td>To master the technologies challenges, we need...</td>\n",
       "      <td>University degree in Engineering or comparabl...</td>\n",
       "    </tr>\n",
       "    <tr>\n",
       "      <th>2</th>\n",
       "      <td>3</td>\n",
       "      <td>M&amp;A Manager (m/f)</td>\n",
       "      <td>Analysis and valuation of potential target co...</td>\n",
       "      <td>Academic degree in economics, business admini...</td>\n",
       "    </tr>\n",
       "    <tr>\n",
       "      <th>3</th>\n",
       "      <td>4</td>\n",
       "      <td>Development Engineer electronic solutions acro...</td>\n",
       "      <td>In 2013 „FirmC Pressure Check“, the Tire Press...</td>\n",
       "      <td>Academic degree in electronics, mechatronics,...</td>\n",
       "    </tr>\n",
       "    <tr>\n",
       "      <th>4</th>\n",
       "      <td>5</td>\n",
       "      <td>System Engineering Process Manager (m/f)</td>\n",
       "      <td>Defines and maintains the system engineering ...</td>\n",
       "      <td>University degree in engineering or compatibl...</td>\n",
       "    </tr>\n",
       "  </tbody>\n",
       "</table>\n",
       "</div>"
      ],
      "text/plain": [
       "   id                                          job_title  \\\n",
       "0   1        Group Leader „Compound Portfolio“ CVT (m/f)   \n",
       "1   2                      Vehicle System Engineer (m/w)   \n",
       "2   3                                  M&A Manager (m/f)   \n",
       "3   4  Development Engineer electronic solutions acro...   \n",
       "4   5           System Engineering Process Manager (m/f)   \n",
       "\n",
       "                                     job_description  \\\n",
       "0   Strategic steering and leading of the \"Portfo...   \n",
       "1  To master the technologies challenges, we need...   \n",
       "2   Analysis and valuation of potential target co...   \n",
       "3  In 2013 „FirmC Pressure Check“, the Tire Press...   \n",
       "4   Defines and maintains the system engineering ...   \n",
       "\n",
       "                                     job_requirement  \n",
       "0   Academic degree in engineering, natural scien...  \n",
       "1   University degree in Engineering or comparabl...  \n",
       "2   Academic degree in economics, business admini...  \n",
       "3   Academic degree in electronics, mechatronics,...  \n",
       "4   University degree in engineering or compatibl...  "
      ]
     },
     "execution_count": 4,
     "metadata": {},
     "output_type": "execute_result"
    }
   ],
   "source": [
    "# Look at first five rows as an example\n",
    "data.head()"
   ]
  },
  {
   "cell_type": "code",
   "execution_count": 5,
   "metadata": {},
   "outputs": [
    {
     "data": {
      "text/plain": [
       "199"
      ]
     },
     "execution_count": 5,
     "metadata": {},
     "output_type": "execute_result"
    }
   ],
   "source": [
    "# Check number of observations in data\n",
    "data.id.count()"
   ]
  },
  {
   "cell_type": "code",
   "execution_count": 6,
   "metadata": {},
   "outputs": [
    {
     "data": {
      "text/plain": [
       "199"
      ]
     },
     "execution_count": 6,
     "metadata": {},
     "output_type": "execute_result"
    }
   ],
   "source": [
    "# Check if all observations are unique\n",
    "data.id.nunique()"
   ]
  },
  {
   "cell_type": "code",
   "execution_count": 7,
   "metadata": {},
   "outputs": [
    {
     "data": {
      "text/plain": [
       "(199, 4)"
      ]
     },
     "execution_count": 7,
     "metadata": {},
     "output_type": "execute_result"
    }
   ],
   "source": [
    "data.shape"
   ]
  },
  {
   "cell_type": "markdown",
   "metadata": {},
   "source": [
    "## Goals this Week"
   ]
  },
  {
   "cell_type": "markdown",
   "metadata": {},
   "source": [
    "Things that I would like you to analyze are:\n",
    "* Write code to analyze how many words each job ad contains (sum of job_description and job_requirement). What is the variation in words?\n",
    "* Write code to preprocess the data (lower case letters, delete special characters, tokenize)\n",
    "* Write code that deletes (m/f) or (m/w) from job_title and check how many times a (similar) job title appears\n",
    "* Write code that extracts the key words that you wrote down in the spread sheet using regular expressions"
   ]
  },
  {
   "cell_type": "code",
   "execution_count": 8,
   "metadata": {},
   "outputs": [],
   "source": [
    "# new column \"sum_words\" - number of words each job ad contains (sum of job_description and job_requirement). \n",
    "data['sum_words'] = data['job_description'].str.split(\" \").str.len() + data[\n",
    "    'job_requirement'].str.split(\" \").str.len()"
   ]
  },
  {
   "cell_type": "code",
   "execution_count": 9,
   "metadata": {},
   "outputs": [
    {
     "data": {
      "text/html": [
       "<div>\n",
       "<style scoped>\n",
       "    .dataframe tbody tr th:only-of-type {\n",
       "        vertical-align: middle;\n",
       "    }\n",
       "\n",
       "    .dataframe tbody tr th {\n",
       "        vertical-align: top;\n",
       "    }\n",
       "\n",
       "    .dataframe thead th {\n",
       "        text-align: right;\n",
       "    }\n",
       "</style>\n",
       "<table border=\"1\" class=\"dataframe\">\n",
       "  <thead>\n",
       "    <tr style=\"text-align: right;\">\n",
       "      <th></th>\n",
       "      <th>id</th>\n",
       "      <th>job_title</th>\n",
       "      <th>job_description</th>\n",
       "      <th>job_requirement</th>\n",
       "      <th>sum_words</th>\n",
       "    </tr>\n",
       "  </thead>\n",
       "  <tbody>\n",
       "    <tr>\n",
       "      <th>0</th>\n",
       "      <td>1</td>\n",
       "      <td>Group Leader „Compound Portfolio“ CVT (m/f)</td>\n",
       "      <td>Strategic steering and leading of the \"Portfo...</td>\n",
       "      <td>Academic degree in engineering, natural scien...</td>\n",
       "      <td>238.0</td>\n",
       "    </tr>\n",
       "    <tr>\n",
       "      <th>1</th>\n",
       "      <td>2</td>\n",
       "      <td>Vehicle System Engineer (m/w)</td>\n",
       "      <td>To master the technologies challenges, we need...</td>\n",
       "      <td>University degree in Engineering or comparabl...</td>\n",
       "      <td>231.0</td>\n",
       "    </tr>\n",
       "    <tr>\n",
       "      <th>2</th>\n",
       "      <td>3</td>\n",
       "      <td>M&amp;A Manager (m/f)</td>\n",
       "      <td>Analysis and valuation of potential target co...</td>\n",
       "      <td>Academic degree in economics, business admini...</td>\n",
       "      <td>193.0</td>\n",
       "    </tr>\n",
       "    <tr>\n",
       "      <th>3</th>\n",
       "      <td>4</td>\n",
       "      <td>Development Engineer electronic solutions acro...</td>\n",
       "      <td>In 2013 „FirmC Pressure Check“, the Tire Press...</td>\n",
       "      <td>Academic degree in electronics, mechatronics,...</td>\n",
       "      <td>204.0</td>\n",
       "    </tr>\n",
       "    <tr>\n",
       "      <th>4</th>\n",
       "      <td>5</td>\n",
       "      <td>System Engineering Process Manager (m/f)</td>\n",
       "      <td>Defines and maintains the system engineering ...</td>\n",
       "      <td>University degree in engineering or compatibl...</td>\n",
       "      <td>351.0</td>\n",
       "    </tr>\n",
       "  </tbody>\n",
       "</table>\n",
       "</div>"
      ],
      "text/plain": [
       "   id                                          job_title  \\\n",
       "0   1        Group Leader „Compound Portfolio“ CVT (m/f)   \n",
       "1   2                      Vehicle System Engineer (m/w)   \n",
       "2   3                                  M&A Manager (m/f)   \n",
       "3   4  Development Engineer electronic solutions acro...   \n",
       "4   5           System Engineering Process Manager (m/f)   \n",
       "\n",
       "                                     job_description  \\\n",
       "0   Strategic steering and leading of the \"Portfo...   \n",
       "1  To master the technologies challenges, we need...   \n",
       "2   Analysis and valuation of potential target co...   \n",
       "3  In 2013 „FirmC Pressure Check“, the Tire Press...   \n",
       "4   Defines and maintains the system engineering ...   \n",
       "\n",
       "                                     job_requirement  sum_words  \n",
       "0   Academic degree in engineering, natural scien...      238.0  \n",
       "1   University degree in Engineering or comparabl...      231.0  \n",
       "2   Academic degree in economics, business admini...      193.0  \n",
       "3   Academic degree in electronics, mechatronics,...      204.0  \n",
       "4   University degree in engineering or compatibl...      351.0  "
      ]
     },
     "execution_count": 9,
     "metadata": {},
     "output_type": "execute_result"
    }
   ],
   "source": [
    "data.head()"
   ]
  },
  {
   "cell_type": "code",
   "execution_count": 10,
   "metadata": {},
   "outputs": [
    {
     "data": {
      "text/plain": [
       "209.65989847715736"
      ]
     },
     "execution_count": 10,
     "metadata": {},
     "output_type": "execute_result"
    }
   ],
   "source": [
    "# mean of sum_words\n",
    "mean = data['sum_words'].mean()\n",
    "mean"
   ]
  },
  {
   "cell_type": "code",
   "execution_count": 11,
   "metadata": {},
   "outputs": [
    {
     "data": {
      "text/plain": [
       "9338.388842846778"
      ]
     },
     "execution_count": 11,
     "metadata": {},
     "output_type": "execute_result"
    }
   ],
   "source": [
    "# variance of sum_words\n",
    "variance = data['sum_words'].var()\n",
    "variance"
   ]
  },
  {
   "cell_type": "code",
   "execution_count": 12,
   "metadata": {},
   "outputs": [],
   "source": [
    "# preprocess the data (lower case letters, delete special characters, tokenize)"
   ]
  },
  {
   "cell_type": "code",
   "execution_count": 13,
   "metadata": {},
   "outputs": [
    {
     "data": {
      "text/html": [
       "<div>\n",
       "<style scoped>\n",
       "    .dataframe tbody tr th:only-of-type {\n",
       "        vertical-align: middle;\n",
       "    }\n",
       "\n",
       "    .dataframe tbody tr th {\n",
       "        vertical-align: top;\n",
       "    }\n",
       "\n",
       "    .dataframe thead th {\n",
       "        text-align: right;\n",
       "    }\n",
       "</style>\n",
       "<table border=\"1\" class=\"dataframe\">\n",
       "  <thead>\n",
       "    <tr style=\"text-align: right;\">\n",
       "      <th></th>\n",
       "      <th>id</th>\n",
       "      <th>job_title</th>\n",
       "      <th>job_description</th>\n",
       "      <th>job_requirement</th>\n",
       "      <th>sum_words</th>\n",
       "    </tr>\n",
       "  </thead>\n",
       "  <tbody>\n",
       "    <tr>\n",
       "      <th>0</th>\n",
       "      <td>1</td>\n",
       "      <td>group leader „compound portfolio“ cvt (m/f)</td>\n",
       "      <td>strategic steering and leading of the \"portfo...</td>\n",
       "      <td>academic degree in engineering, natural scien...</td>\n",
       "      <td>238.0</td>\n",
       "    </tr>\n",
       "    <tr>\n",
       "      <th>1</th>\n",
       "      <td>2</td>\n",
       "      <td>vehicle system engineer (m/w)</td>\n",
       "      <td>to master the technologies challenges, we need...</td>\n",
       "      <td>university degree in engineering or comparabl...</td>\n",
       "      <td>231.0</td>\n",
       "    </tr>\n",
       "    <tr>\n",
       "      <th>2</th>\n",
       "      <td>3</td>\n",
       "      <td>m&amp;a manager (m/f)</td>\n",
       "      <td>analysis and valuation of potential target co...</td>\n",
       "      <td>academic degree in economics, business admini...</td>\n",
       "      <td>193.0</td>\n",
       "    </tr>\n",
       "    <tr>\n",
       "      <th>3</th>\n",
       "      <td>4</td>\n",
       "      <td>development engineer electronic solutions acro...</td>\n",
       "      <td>in 2013 „firmc pressure check“, the tire press...</td>\n",
       "      <td>academic degree in electronics, mechatronics,...</td>\n",
       "      <td>204.0</td>\n",
       "    </tr>\n",
       "    <tr>\n",
       "      <th>4</th>\n",
       "      <td>5</td>\n",
       "      <td>system engineering process manager (m/f)</td>\n",
       "      <td>defines and maintains the system engineering ...</td>\n",
       "      <td>university degree in engineering or compatibl...</td>\n",
       "      <td>351.0</td>\n",
       "    </tr>\n",
       "  </tbody>\n",
       "</table>\n",
       "</div>"
      ],
      "text/plain": [
       "  id                                          job_title  \\\n",
       "0  1        group leader „compound portfolio“ cvt (m/f)   \n",
       "1  2                      vehicle system engineer (m/w)   \n",
       "2  3                                  m&a manager (m/f)   \n",
       "3  4  development engineer electronic solutions acro...   \n",
       "4  5           system engineering process manager (m/f)   \n",
       "\n",
       "                                     job_description  \\\n",
       "0   strategic steering and leading of the \"portfo...   \n",
       "1  to master the technologies challenges, we need...   \n",
       "2   analysis and valuation of potential target co...   \n",
       "3  in 2013 „firmc pressure check“, the tire press...   \n",
       "4   defines and maintains the system engineering ...   \n",
       "\n",
       "                                     job_requirement sum_words  \n",
       "0   academic degree in engineering, natural scien...     238.0  \n",
       "1   university degree in engineering or comparabl...     231.0  \n",
       "2   academic degree in economics, business admini...     193.0  \n",
       "3   academic degree in electronics, mechatronics,...     204.0  \n",
       "4   university degree in engineering or compatibl...     351.0  "
      ]
     },
     "execution_count": 13,
     "metadata": {},
     "output_type": "execute_result"
    }
   ],
   "source": [
    "# turn all letters to lower case\n",
    "data = pd.concat([data[col].astype(str).str.lower() for col in data.columns], axis=1)\n",
    "data.head()"
   ]
  },
  {
   "cell_type": "code",
   "execution_count": 14,
   "metadata": {},
   "outputs": [],
   "source": [
    "# remove (m/f) or (m/w) from job_title\n",
    "data = data.apply(lambda s: s.str.replace(\"\\(m/f\\)\",\"\").str.replace(\"\\(m/w\\)\",\"\"))"
   ]
  },
  {
   "cell_type": "code",
   "execution_count": 15,
   "metadata": {},
   "outputs": [],
   "source": [
    "# remove punctuations\n",
    "data = data.apply(lambda s: s.str.replace(r\"\\(.*\\)\",\"\").str.replace(\n",
    "    '“','').str.replace('„','').str.replace('/','').str.replace('\"','').str.replace(\n",
    "    \",\",'').str.replace(\".\",''))"
   ]
  },
  {
   "cell_type": "code",
   "execution_count": 16,
   "metadata": {},
   "outputs": [
    {
     "data": {
      "text/html": [
       "<div>\n",
       "<style scoped>\n",
       "    .dataframe tbody tr th:only-of-type {\n",
       "        vertical-align: middle;\n",
       "    }\n",
       "\n",
       "    .dataframe tbody tr th {\n",
       "        vertical-align: top;\n",
       "    }\n",
       "\n",
       "    .dataframe thead th {\n",
       "        text-align: right;\n",
       "    }\n",
       "</style>\n",
       "<table border=\"1\" class=\"dataframe\">\n",
       "  <thead>\n",
       "    <tr style=\"text-align: right;\">\n",
       "      <th></th>\n",
       "      <th>id</th>\n",
       "      <th>job_title</th>\n",
       "      <th>job_description</th>\n",
       "      <th>job_requirement</th>\n",
       "      <th>sum_words</th>\n",
       "    </tr>\n",
       "  </thead>\n",
       "  <tbody>\n",
       "    <tr>\n",
       "      <th>0</th>\n",
       "      <td>1</td>\n",
       "      <td>group leader compound portfolio cvt</td>\n",
       "      <td>strategic steering and leading of the portfol...</td>\n",
       "      <td>academic degree in engineering natural scienc...</td>\n",
       "      <td>2380</td>\n",
       "    </tr>\n",
       "    <tr>\n",
       "      <th>1</th>\n",
       "      <td>2</td>\n",
       "      <td>vehicle system engineer</td>\n",
       "      <td>to master the technologies challenges we need ...</td>\n",
       "      <td>university degree in engineering or comparabl...</td>\n",
       "      <td>2310</td>\n",
       "    </tr>\n",
       "    <tr>\n",
       "      <th>2</th>\n",
       "      <td>3</td>\n",
       "      <td>m&amp;a manager</td>\n",
       "      <td>analysis and valuation of potential target co...</td>\n",
       "      <td>academic degree in economics business adminis...</td>\n",
       "      <td>1930</td>\n",
       "    </tr>\n",
       "    <tr>\n",
       "      <th>3</th>\n",
       "      <td>4</td>\n",
       "      <td>development engineer electronic solutions acro...</td>\n",
       "      <td>in 2013 firmc pressure check the tire pressure...</td>\n",
       "      <td>academic degree in electronics mechatronics i...</td>\n",
       "      <td>2040</td>\n",
       "    </tr>\n",
       "    <tr>\n",
       "      <th>4</th>\n",
       "      <td>5</td>\n",
       "      <td>system engineering process manager</td>\n",
       "      <td>defines and maintains the system engineering ...</td>\n",
       "      <td>university degree in engineering or compatibl...</td>\n",
       "      <td>3510</td>\n",
       "    </tr>\n",
       "  </tbody>\n",
       "</table>\n",
       "</div>"
      ],
      "text/plain": [
       "  id                                          job_title  \\\n",
       "0  1               group leader compound portfolio cvt    \n",
       "1  2                           vehicle system engineer    \n",
       "2  3                                       m&a manager    \n",
       "3  4  development engineer electronic solutions acro...   \n",
       "4  5                system engineering process manager    \n",
       "\n",
       "                                     job_description  \\\n",
       "0   strategic steering and leading of the portfol...   \n",
       "1  to master the technologies challenges we need ...   \n",
       "2   analysis and valuation of potential target co...   \n",
       "3  in 2013 firmc pressure check the tire pressure...   \n",
       "4   defines and maintains the system engineering ...   \n",
       "\n",
       "                                     job_requirement sum_words  \n",
       "0   academic degree in engineering natural scienc...      2380  \n",
       "1   university degree in engineering or comparabl...      2310  \n",
       "2   academic degree in economics business adminis...      1930  \n",
       "3   academic degree in electronics mechatronics i...      2040  \n",
       "4   university degree in engineering or compatibl...      3510  "
      ]
     },
     "execution_count": 16,
     "metadata": {},
     "output_type": "execute_result"
    }
   ],
   "source": [
    "data.head()"
   ]
  },
  {
   "cell_type": "code",
   "execution_count": 17,
   "metadata": {},
   "outputs": [
    {
     "data": {
      "text/plain": [
       "0    152\n",
       "1     47\n",
       "Name: job_title, dtype: int64"
      ]
     },
     "execution_count": 17,
     "metadata": {},
     "output_type": "execute_result"
    }
   ],
   "source": [
    "# check how many times a (similar) job title appears\n",
    "data.job_title.str.count(\"manager\").value_counts()"
   ]
  },
  {
   "cell_type": "code",
   "execution_count": 18,
   "metadata": {},
   "outputs": [
    {
     "data": {
      "text/plain": [
       "0    150\n",
       "1     49\n",
       "Name: job_title, dtype: int64"
      ]
     },
     "execution_count": 18,
     "metadata": {},
     "output_type": "execute_result"
    }
   ],
   "source": [
    "data.job_title.str.count(\"engineer\").value_counts()"
   ]
  },
  {
   "cell_type": "code",
   "execution_count": 19,
   "metadata": {},
   "outputs": [
    {
     "data": {
      "text/plain": [
       "0    186\n",
       "1     13\n",
       "Name: job_title, dtype: int64"
      ]
     },
     "execution_count": 19,
     "metadata": {},
     "output_type": "execute_result"
    }
   ],
   "source": [
    "data.job_title.str.count(\"leader\").value_counts()"
   ]
  },
  {
   "cell_type": "code",
   "execution_count": 20,
   "metadata": {},
   "outputs": [
    {
     "data": {
      "text/plain": [
       "[('and', 2593),\n",
       " ('of', 1670),\n",
       " ('the', 1390),\n",
       " ('in', 1248),\n",
       " ('', 1202),\n",
       " ('\\r\\n', 652),\n",
       " ('to', 631),\n",
       " ('for', 617),\n",
       " ('with', 503),\n",
       " ('as', 343),\n",
       " ('development', 330),\n",
       " ('experience', 315),\n",
       " ('management', 292),\n",
       " ('or', 267),\n",
       " ('project', 259),\n",
       " ('a', 259),\n",
       " ('knowledge', 229),\n",
       " ('skills', 221),\n",
       " ('support', 216),\n",
       " ('good', 213)]"
      ]
     },
     "execution_count": 20,
     "metadata": {},
     "output_type": "execute_result"
    }
   ],
   "source": [
    "# the variation in words\n",
    "count_unique_words_description = Counter(\" \".join(data['job_description'].astype(str)).split(\" \"))\n",
    "count_unique_words_requirement = Counter(\" \".join(data['job_requirement'].astype(str)).split(\" \"))\n",
    "count_unique_words = count_unique_words_description + count_unique_words_requirement\n",
    "count_unique_words.most_common(20)"
   ]
  },
  {
   "cell_type": "code",
   "execution_count": 21,
   "metadata": {},
   "outputs": [
    {
     "name": "stderr",
     "output_type": "stream",
     "text": [
      "[nltk_data] Downloading package punkt to /Users/dongxujia/nltk_data...\n",
      "[nltk_data]   Package punkt is already up-to-date!\n"
     ]
    }
   ],
   "source": [
    "# tokenize\n",
    "import nltk\n",
    "nltk.download('punkt')\n",
    "from nltk.tokenize import word_tokenize"
   ]
  },
  {
   "cell_type": "code",
   "execution_count": 22,
   "metadata": {},
   "outputs": [
    {
     "data": {
      "text/html": [
       "<div>\n",
       "<style scoped>\n",
       "    .dataframe tbody tr th:only-of-type {\n",
       "        vertical-align: middle;\n",
       "    }\n",
       "\n",
       "    .dataframe tbody tr th {\n",
       "        vertical-align: top;\n",
       "    }\n",
       "\n",
       "    .dataframe thead th {\n",
       "        text-align: right;\n",
       "    }\n",
       "</style>\n",
       "<table border=\"1\" class=\"dataframe\">\n",
       "  <thead>\n",
       "    <tr style=\"text-align: right;\">\n",
       "      <th></th>\n",
       "      <th>id</th>\n",
       "      <th>job_title</th>\n",
       "      <th>job_description</th>\n",
       "      <th>job_requirement</th>\n",
       "      <th>sum_words</th>\n",
       "    </tr>\n",
       "  </thead>\n",
       "  <tbody>\n",
       "    <tr>\n",
       "      <th>0</th>\n",
       "      <td>1</td>\n",
       "      <td>[group, leader, compound, portfolio, cvt]</td>\n",
       "      <td>[strategic, steering, and, leading, of, the, p...</td>\n",
       "      <td>[academic, degree, in, engineering, natural, s...</td>\n",
       "      <td>2380</td>\n",
       "    </tr>\n",
       "    <tr>\n",
       "      <th>1</th>\n",
       "      <td>2</td>\n",
       "      <td>[vehicle, system, engineer]</td>\n",
       "      <td>[to, master, the, technologies, challenges, we...</td>\n",
       "      <td>[university, degree, in, engineering, or, comp...</td>\n",
       "      <td>2310</td>\n",
       "    </tr>\n",
       "    <tr>\n",
       "      <th>2</th>\n",
       "      <td>3</td>\n",
       "      <td>[m, &amp;, a, manager]</td>\n",
       "      <td>[analysis, and, valuation, of, potential, targ...</td>\n",
       "      <td>[academic, degree, in, economics, business, ad...</td>\n",
       "      <td>1930</td>\n",
       "    </tr>\n",
       "    <tr>\n",
       "      <th>3</th>\n",
       "      <td>4</td>\n",
       "      <td>[development, engineer, electronic, solutions,...</td>\n",
       "      <td>[in, 2013, firmc, pressure, check, the, tire, ...</td>\n",
       "      <td>[academic, degree, in, electronics, mechatroni...</td>\n",
       "      <td>2040</td>\n",
       "    </tr>\n",
       "    <tr>\n",
       "      <th>4</th>\n",
       "      <td>5</td>\n",
       "      <td>[system, engineering, process, manager]</td>\n",
       "      <td>[defines, and, maintains, the, system, enginee...</td>\n",
       "      <td>[university, degree, in, engineering, or, comp...</td>\n",
       "      <td>3510</td>\n",
       "    </tr>\n",
       "  </tbody>\n",
       "</table>\n",
       "</div>"
      ],
      "text/plain": [
       "  id                                          job_title  \\\n",
       "0  1          [group, leader, compound, portfolio, cvt]   \n",
       "1  2                        [vehicle, system, engineer]   \n",
       "2  3                                 [m, &, a, manager]   \n",
       "3  4  [development, engineer, electronic, solutions,...   \n",
       "4  5            [system, engineering, process, manager]   \n",
       "\n",
       "                                     job_description  \\\n",
       "0  [strategic, steering, and, leading, of, the, p...   \n",
       "1  [to, master, the, technologies, challenges, we...   \n",
       "2  [analysis, and, valuation, of, potential, targ...   \n",
       "3  [in, 2013, firmc, pressure, check, the, tire, ...   \n",
       "4  [defines, and, maintains, the, system, enginee...   \n",
       "\n",
       "                                     job_requirement sum_words  \n",
       "0  [academic, degree, in, engineering, natural, s...      2380  \n",
       "1  [university, degree, in, engineering, or, comp...      2310  \n",
       "2  [academic, degree, in, economics, business, ad...      1930  \n",
       "3  [academic, degree, in, electronics, mechatroni...      2040  \n",
       "4  [university, degree, in, engineering, or, comp...      3510  "
      ]
     },
     "execution_count": 22,
     "metadata": {},
     "output_type": "execute_result"
    }
   ],
   "source": [
    "data['job_title'] = data['job_title'].apply(word_tokenize)\n",
    "data['job_description'] = data['job_description'].apply(word_tokenize)\n",
    "data['job_requirement'] = data['job_requirement'].apply(word_tokenize)\n",
    "data.head()"
   ]
  },
  {
   "cell_type": "code",
   "execution_count": null,
   "metadata": {},
   "outputs": [],
   "source": []
  },
  {
   "cell_type": "code",
   "execution_count": 23,
   "metadata": {},
   "outputs": [],
   "source": [
    "# extracts the key words that you wrote down in the spread sheet using regular expressions"
   ]
  },
  {
   "cell_type": "code",
   "execution_count": 24,
   "metadata": {},
   "outputs": [
    {
     "data": {
      "text/plain": [
       "46"
      ]
     },
     "execution_count": 24,
     "metadata": {},
     "output_type": "execute_result"
    }
   ],
   "source": [
    "count_unique_words['excellent']"
   ]
  },
  {
   "cell_type": "code",
   "execution_count": 25,
   "metadata": {},
   "outputs": [
    {
     "data": {
      "text/plain": [
       "4"
      ]
     },
     "execution_count": 25,
     "metadata": {},
     "output_type": "execute_result"
    }
   ],
   "source": [
    "count_unique_words['assertive']"
   ]
  },
  {
   "cell_type": "code",
   "execution_count": 28,
   "metadata": {},
   "outputs": [
    {
     "data": {
      "text/plain": [
       "44"
      ]
     },
     "execution_count": 28,
     "metadata": {},
     "output_type": "execute_result"
    }
   ],
   "source": [
    "count_unique_words['travel']"
   ]
  },
  {
   "cell_type": "code",
   "execution_count": 29,
   "metadata": {},
   "outputs": [
    {
     "data": {
      "text/plain": [
       "64"
      ]
     },
     "execution_count": 29,
     "metadata": {},
     "output_type": "execute_result"
    }
   ],
   "source": [
    "count_unique_words['lead']"
   ]
  },
  {
   "cell_type": "code",
   "execution_count": null,
   "metadata": {},
   "outputs": [],
   "source": []
  }
 ],
 "metadata": {
  "kernelspec": {
   "display_name": "Python 3",
   "language": "python",
   "name": "python3"
  },
  "language_info": {
   "codemirror_mode": {
    "name": "ipython",
    "version": 3
   },
   "file_extension": ".py",
   "mimetype": "text/x-python",
   "name": "python",
   "nbconvert_exporter": "python",
   "pygments_lexer": "ipython3",
   "version": "3.7.3"
  }
 },
 "nbformat": 4,
 "nbformat_minor": 2
}
