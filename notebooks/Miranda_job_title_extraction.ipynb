{
 "cells": [
  {
   "cell_type": "code",
   "execution_count": 1,
   "metadata": {},
   "outputs": [],
   "source": [
    "import numpy as np\n",
    "import pandas as pd\n",
    "import re\n",
    "from collections import Counter"
   ]
  },
  {
   "cell_type": "code",
   "execution_count": 2,
   "metadata": {},
   "outputs": [],
   "source": [
    "data= pd.read_excel('/Users/dongxujia/Dropbox/DS-Discovery_GenderDiversity/04_Data/raw/jobads.xlsx')"
   ]
  },
  {
   "cell_type": "code",
   "execution_count": 3,
   "metadata": {},
   "outputs": [
    {
     "data": {
      "text/plain": [
       "(6472, 5)"
      ]
     },
     "execution_count": 3,
     "metadata": {},
     "output_type": "execute_result"
    }
   ],
   "source": [
    "data.shape"
   ]
  },
  {
   "cell_type": "code",
   "execution_count": 12,
   "metadata": {},
   "outputs": [
    {
     "data": {
      "text/plain": [
       "6472"
      ]
     },
     "execution_count": 12,
     "metadata": {},
     "output_type": "execute_result"
    }
   ],
   "source": [
    "data.id.nunique()"
   ]
  },
  {
   "cell_type": "code",
   "execution_count": 5,
   "metadata": {},
   "outputs": [
    {
     "data": {
      "text/html": [
       "<div>\n",
       "<style scoped>\n",
       "    .dataframe tbody tr th:only-of-type {\n",
       "        vertical-align: middle;\n",
       "    }\n",
       "\n",
       "    .dataframe tbody tr th {\n",
       "        vertical-align: top;\n",
       "    }\n",
       "\n",
       "    .dataframe thead th {\n",
       "        text-align: right;\n",
       "    }\n",
       "</style>\n",
       "<table border=\"1\" class=\"dataframe\">\n",
       "  <thead>\n",
       "    <tr style=\"text-align: right;\">\n",
       "      <th></th>\n",
       "      <th>id</th>\n",
       "      <th>job_title_en</th>\n",
       "      <th>job_requirement_en</th>\n",
       "      <th>job_description_en</th>\n",
       "      <th>job_category</th>\n",
       "    </tr>\n",
       "  </thead>\n",
       "  <tbody>\n",
       "    <tr>\n",
       "      <th>0</th>\n",
       "      <td>1</td>\n",
       "      <td>engineering applications it analyst</td>\n",
       "      <td>bachelor degree in computer science engineerin...</td>\n",
       "      <td>development of new tools and change of existin...</td>\n",
       "      <td>information technology--data processing/hardwa...</td>\n",
       "    </tr>\n",
       "    <tr>\n",
       "      <th>1</th>\n",
       "      <td>2</td>\n",
       "      <td>ebusiness manager  focus online applications</td>\n",
       "      <td>university degree in business administration b...</td>\n",
       "      <td>you are the central key user for web-based onl...</td>\n",
       "      <td>project management--planning and organization,...</td>\n",
       "    </tr>\n",
       "    <tr>\n",
       "      <th>2</th>\n",
       "      <td>3</td>\n",
       "      <td>ebusiness manager  focus online marketing</td>\n",
       "      <td>university degree in business administration b...</td>\n",
       "      <td>you are resonpisble for visibility and attract...</td>\n",
       "      <td>marketing and sales--marketing,project managem...</td>\n",
       "    </tr>\n",
       "    <tr>\n",
       "      <th>3</th>\n",
       "      <td>4</td>\n",
       "      <td>specialist software services</td>\n",
       "      <td>academic degree computer science business info...</td>\n",
       "      <td>in your new position you want to be part of a ...</td>\n",
       "      <td>information technology--data processing/hardwa...</td>\n",
       "    </tr>\n",
       "    <tr>\n",
       "      <th>4</th>\n",
       "      <td>5</td>\n",
       "      <td>head of technical product management brake sys...</td>\n",
       "      <td>degree in engineering with mechanical engineer...</td>\n",
       "      <td>identification of new and innovative product i...</td>\n",
       "      <td>marketing and sales--other,project management-...</td>\n",
       "    </tr>\n",
       "  </tbody>\n",
       "</table>\n",
       "</div>"
      ],
      "text/plain": [
       "   id                                       job_title_en  \\\n",
       "0   1               engineering applications it analyst    \n",
       "1   2       ebusiness manager  focus online applications   \n",
       "2   3          ebusiness manager  focus online marketing   \n",
       "3   4                       specialist software services   \n",
       "4   5  head of technical product management brake sys...   \n",
       "\n",
       "                                  job_requirement_en  \\\n",
       "0  bachelor degree in computer science engineerin...   \n",
       "1  university degree in business administration b...   \n",
       "2  university degree in business administration b...   \n",
       "3  academic degree computer science business info...   \n",
       "4  degree in engineering with mechanical engineer...   \n",
       "\n",
       "                                  job_description_en  \\\n",
       "0  development of new tools and change of existin...   \n",
       "1  you are the central key user for web-based onl...   \n",
       "2  you are resonpisble for visibility and attract...   \n",
       "3  in your new position you want to be part of a ...   \n",
       "4  identification of new and innovative product i...   \n",
       "\n",
       "                                        job_category  \n",
       "0  information technology--data processing/hardwa...  \n",
       "1  project management--planning and organization,...  \n",
       "2  marketing and sales--marketing,project managem...  \n",
       "3  information technology--data processing/hardwa...  \n",
       "4  marketing and sales--other,project management-...  "
      ]
     },
     "execution_count": 5,
     "metadata": {},
     "output_type": "execute_result"
    }
   ],
   "source": [
    "data.head()"
   ]
  },
  {
   "cell_type": "markdown",
   "metadata": {},
   "source": [
    "### • 1) Classify job titles using a two-factor model\n",
    "\t○ Find the area of the job (e.g. software engineering)\n",
    "\t\t○ (for the area the first element of the job category might be helpful) and\n",
    "\t○ and the rank of the job (e.g. lead, senior, group lead, team leader, assistant) if applicable. \n",
    "\n",
    "\n",
    "### • 2) Classify job titles using the degree requirements\n",
    "\t○ Isolate the type of degree and the number of years of worker experience for each position\n",
    "\t○ Group positions by degree x experience groups "
   ]
  },
  {
   "cell_type": "code",
   "execution_count": 17,
   "metadata": {},
   "outputs": [
    {
     "data": {
      "text/html": [
       "<div>\n",
       "<style scoped>\n",
       "    .dataframe tbody tr th:only-of-type {\n",
       "        vertical-align: middle;\n",
       "    }\n",
       "\n",
       "    .dataframe tbody tr th {\n",
       "        vertical-align: top;\n",
       "    }\n",
       "\n",
       "    .dataframe thead th {\n",
       "        text-align: right;\n",
       "    }\n",
       "</style>\n",
       "<table border=\"1\" class=\"dataframe\">\n",
       "  <thead>\n",
       "    <tr style=\"text-align: right;\">\n",
       "      <th></th>\n",
       "      <th>id</th>\n",
       "      <th>job_title_en</th>\n",
       "      <th>job_requirement_en</th>\n",
       "      <th>job_description_en</th>\n",
       "      <th>job_category</th>\n",
       "    </tr>\n",
       "  </thead>\n",
       "  <tbody>\n",
       "    <tr>\n",
       "      <th>0</th>\n",
       "      <td>1</td>\n",
       "      <td>engineering applications it analyst</td>\n",
       "      <td>bachelor degree in computer science engineerin...</td>\n",
       "      <td>development of new tools and change of existin...</td>\n",
       "      <td>information technology--data processing/hardwa...</td>\n",
       "    </tr>\n",
       "    <tr>\n",
       "      <th>1</th>\n",
       "      <td>2</td>\n",
       "      <td>ebusiness manager  focus online applications</td>\n",
       "      <td>university degree in business administration b...</td>\n",
       "      <td>you are the central key user for web-based onl...</td>\n",
       "      <td>project management--planning and organization,...</td>\n",
       "    </tr>\n",
       "    <tr>\n",
       "      <th>2</th>\n",
       "      <td>3</td>\n",
       "      <td>ebusiness manager  focus online marketing</td>\n",
       "      <td>university degree in business administration b...</td>\n",
       "      <td>you are resonpisble for visibility and attract...</td>\n",
       "      <td>marketing and sales--marketing,project managem...</td>\n",
       "    </tr>\n",
       "    <tr>\n",
       "      <th>3</th>\n",
       "      <td>4</td>\n",
       "      <td>specialist software services</td>\n",
       "      <td>academic degree computer science business info...</td>\n",
       "      <td>in your new position you want to be part of a ...</td>\n",
       "      <td>information technology--data processing/hardwa...</td>\n",
       "    </tr>\n",
       "    <tr>\n",
       "      <th>4</th>\n",
       "      <td>5</td>\n",
       "      <td>head of technical product management brake sys...</td>\n",
       "      <td>degree in engineering with mechanical engineer...</td>\n",
       "      <td>identification of new and innovative product i...</td>\n",
       "      <td>marketing and sales--other,project management-...</td>\n",
       "    </tr>\n",
       "  </tbody>\n",
       "</table>\n",
       "</div>"
      ],
      "text/plain": [
       "   id                                       job_title_en  \\\n",
       "0   1               engineering applications it analyst    \n",
       "1   2       ebusiness manager  focus online applications   \n",
       "2   3          ebusiness manager  focus online marketing   \n",
       "3   4                       specialist software services   \n",
       "4   5  head of technical product management brake sys...   \n",
       "\n",
       "                                  job_requirement_en  \\\n",
       "0  bachelor degree in computer science engineerin...   \n",
       "1  university degree in business administration b...   \n",
       "2  university degree in business administration b...   \n",
       "3  academic degree computer science business info...   \n",
       "4  degree in engineering with mechanical engineer...   \n",
       "\n",
       "                                  job_description_en  \\\n",
       "0  development of new tools and change of existin...   \n",
       "1  you are the central key user for web-based onl...   \n",
       "2  you are resonpisble for visibility and attract...   \n",
       "3  in your new position you want to be part of a ...   \n",
       "4  identification of new and innovative product i...   \n",
       "\n",
       "                                        job_category  \n",
       "0  information technology--data processing/hardwa...  \n",
       "1  project management--planning and organization,...  \n",
       "2  marketing and sales--marketing,project managem...  \n",
       "3  information technology--data processing/hardwa...  \n",
       "4  marketing and sales--other,project management-...  "
      ]
     },
     "execution_count": 17,
     "metadata": {},
     "output_type": "execute_result"
    }
   ],
   "source": [
    "data.head()"
   ]
  },
  {
   "cell_type": "markdown",
   "metadata": {},
   "source": [
    "### Use job_category to extract job_area"
   ]
  },
  {
   "cell_type": "code",
   "execution_count": 60,
   "metadata": {},
   "outputs": [
    {
     "data": {
      "text/plain": [
       "False    6440\n",
       "True       32\n",
       "Name: job_category, dtype: int64"
      ]
     },
     "execution_count": 60,
     "metadata": {},
     "output_type": "execute_result"
    }
   ],
   "source": [
    "# some entries in job_category are null types\n",
    "data.job_category.isnull().value_counts()"
   ]
  },
  {
   "cell_type": "code",
   "execution_count": 66,
   "metadata": {},
   "outputs": [],
   "source": [
    "# change these to None\n",
    "data.loc[data.job_category.isnull(),['job_category']] = None"
   ]
  },
  {
   "cell_type": "code",
   "execution_count": 74,
   "metadata": {},
   "outputs": [
    {
     "data": {
      "text/plain": [
       "True     6415\n",
       "False      57\n",
       "Name: job_category, dtype: int64"
      ]
     },
     "execution_count": 74,
     "metadata": {},
     "output_type": "execute_result"
    }
   ],
   "source": [
    "data.job_category.str.contains(\"--\", na=False).value_counts()"
   ]
  },
  {
   "cell_type": "code",
   "execution_count": 88,
   "metadata": {},
   "outputs": [
    {
     "data": {
      "text/html": [
       "<div>\n",
       "<style scoped>\n",
       "    .dataframe tbody tr th:only-of-type {\n",
       "        vertical-align: middle;\n",
       "    }\n",
       "\n",
       "    .dataframe tbody tr th {\n",
       "        vertical-align: top;\n",
       "    }\n",
       "\n",
       "    .dataframe thead th {\n",
       "        text-align: right;\n",
       "    }\n",
       "</style>\n",
       "<table border=\"1\" class=\"dataframe\">\n",
       "  <thead>\n",
       "    <tr style=\"text-align: right;\">\n",
       "      <th></th>\n",
       "      <th>id</th>\n",
       "      <th>job_title_en</th>\n",
       "      <th>job_requirement_en</th>\n",
       "      <th>job_description_en</th>\n",
       "      <th>job_category</th>\n",
       "    </tr>\n",
       "  </thead>\n",
       "  <tbody>\n",
       "    <tr>\n",
       "      <th>28</th>\n",
       "      <td>29</td>\n",
       "      <td>control  sys engineer_fix_stpm_1</td>\n",
       "      <td>None</td>\n",
       "      <td>perform system projects for technical concepts...</td>\n",
       "      <td>None</td>\n",
       "    </tr>\n",
       "    <tr>\n",
       "      <th>40</th>\n",
       "      <td>41</td>\n",
       "      <td>control  sys engineer_fix_stpm_2</td>\n",
       "      <td>None</td>\n",
       "      <td>perform system projects for technical concepts...</td>\n",
       "      <td>None</td>\n",
       "    </tr>\n",
       "    <tr>\n",
       "      <th>50</th>\n",
       "      <td>51</td>\n",
       "      <td>control  software engineer_ersatz_michael herold</td>\n",
       "      <td>None</td>\n",
       "      <td>Perform software projects for technical concep...</td>\n",
       "      <td>None</td>\n",
       "    </tr>\n",
       "    <tr>\n",
       "      <th>701</th>\n",
       "      <td>702</td>\n",
       "      <td>web edi coordinator</td>\n",
       "      <td>None</td>\n",
       "      <td>activity description:\\nimplementation of the t...</td>\n",
       "      <td>None</td>\n",
       "    </tr>\n",
       "    <tr>\n",
       "      <th>742</th>\n",
       "      <td>743</td>\n",
       "      <td>head of product management workshop solutions</td>\n",
       "      <td>degree in engineering economics or similar qua...</td>\n",
       "      <td>management of the department product managemen...</td>\n",
       "      <td>general management</td>\n",
       "    </tr>\n",
       "  </tbody>\n",
       "</table>\n",
       "</div>"
      ],
      "text/plain": [
       "      id                                      job_title_en  \\\n",
       "28    29                  control  sys engineer_fix_stpm_1   \n",
       "40    41                  control  sys engineer_fix_stpm_2   \n",
       "50    51  control  software engineer_ersatz_michael herold   \n",
       "701  702                               web edi coordinator   \n",
       "742  743    head of product management workshop solutions    \n",
       "\n",
       "                                    job_requirement_en  \\\n",
       "28                                                None   \n",
       "40                                                None   \n",
       "50                                                None   \n",
       "701                                               None   \n",
       "742  degree in engineering economics or similar qua...   \n",
       "\n",
       "                                    job_description_en        job_category  \n",
       "28   perform system projects for technical concepts...                None  \n",
       "40   perform system projects for technical concepts...                None  \n",
       "50   Perform software projects for technical concep...                None  \n",
       "701  activity description:\\nimplementation of the t...                None  \n",
       "742  management of the department product managemen...  general management  "
      ]
     },
     "execution_count": 88,
     "metadata": {},
     "output_type": "execute_result"
    }
   ],
   "source": [
    "# note that job_categories that are without \"--\" are either None or \"general management\"\n",
    "\n",
    "data[~data.job_category.str.contains(\"--\", na=False)].head()"
   ]
  },
  {
   "cell_type": "code",
   "execution_count": null,
   "metadata": {},
   "outputs": [],
   "source": [
    "# Create a new column called \"job_area\" that keeps the word before \"--\" in job_category.\n",
    "# For entries in job_category that do not contain \"--\" (either None or \"general management\"),\n",
    "# fill in None for the former and \"management\" for the latter."
   ]
  },
  {
   "cell_type": "code",
   "execution_count": 102,
   "metadata": {},
   "outputs": [],
   "source": [
    "data.loc[data.job_category.str.contains(\n",
    "    \"--\", na=False),'job_area'] = data.job_category.str.split(\"--\").str[0]"
   ]
  },
  {
   "cell_type": "code",
   "execution_count": 96,
   "metadata": {},
   "outputs": [],
   "source": [
    "data.loc[data.job_category.isnull(),'job_area'] = None"
   ]
  },
  {
   "cell_type": "code",
   "execution_count": 97,
   "metadata": {},
   "outputs": [],
   "source": [
    "data.loc[data.job_category == \"general management\",'job_area'] = \"management\""
   ]
  },
  {
   "cell_type": "code",
   "execution_count": 116,
   "metadata": {},
   "outputs": [],
   "source": [
    "data.job_area = data.job_area.str.replace(\",\",\" \")"
   ]
  },
  {
   "cell_type": "code",
   "execution_count": 123,
   "metadata": {},
   "outputs": [],
   "source": [
    "# create another column job_area_oneword that combine each entry in job_area as one word using underscores"
   ]
  },
  {
   "cell_type": "code",
   "execution_count": 124,
   "metadata": {},
   "outputs": [],
   "source": [
    "data['job_area_oneword'] = data.job_area.str.replace(\" \",\"_\")"
   ]
  },
  {
   "cell_type": "code",
   "execution_count": 125,
   "metadata": {},
   "outputs": [
    {
     "data": {
      "text/html": [
       "<div>\n",
       "<style scoped>\n",
       "    .dataframe tbody tr th:only-of-type {\n",
       "        vertical-align: middle;\n",
       "    }\n",
       "\n",
       "    .dataframe tbody tr th {\n",
       "        vertical-align: top;\n",
       "    }\n",
       "\n",
       "    .dataframe thead th {\n",
       "        text-align: right;\n",
       "    }\n",
       "</style>\n",
       "<table border=\"1\" class=\"dataframe\">\n",
       "  <thead>\n",
       "    <tr style=\"text-align: right;\">\n",
       "      <th></th>\n",
       "      <th>id</th>\n",
       "      <th>job_title_en</th>\n",
       "      <th>job_requirement_en</th>\n",
       "      <th>job_description_en</th>\n",
       "      <th>job_category</th>\n",
       "      <th>job_area</th>\n",
       "      <th>job_area_oneword</th>\n",
       "    </tr>\n",
       "  </thead>\n",
       "  <tbody>\n",
       "    <tr>\n",
       "      <th>0</th>\n",
       "      <td>1</td>\n",
       "      <td>engineering applications it analyst</td>\n",
       "      <td>bachelor degree in computer science engineerin...</td>\n",
       "      <td>development of new tools and change of existin...</td>\n",
       "      <td>information technology--data processing/hardwa...</td>\n",
       "      <td>information technology</td>\n",
       "      <td>information_technology</td>\n",
       "    </tr>\n",
       "    <tr>\n",
       "      <th>1</th>\n",
       "      <td>2</td>\n",
       "      <td>ebusiness manager  focus online applications</td>\n",
       "      <td>university degree in business administration b...</td>\n",
       "      <td>you are the central key user for web-based onl...</td>\n",
       "      <td>project management--planning and organization,...</td>\n",
       "      <td>project management</td>\n",
       "      <td>project_management</td>\n",
       "    </tr>\n",
       "    <tr>\n",
       "      <th>2</th>\n",
       "      <td>3</td>\n",
       "      <td>ebusiness manager  focus online marketing</td>\n",
       "      <td>university degree in business administration b...</td>\n",
       "      <td>you are resonpisble for visibility and attract...</td>\n",
       "      <td>marketing and sales--marketing,project managem...</td>\n",
       "      <td>marketing and sales</td>\n",
       "      <td>marketing_and_sales</td>\n",
       "    </tr>\n",
       "    <tr>\n",
       "      <th>3</th>\n",
       "      <td>4</td>\n",
       "      <td>specialist software services</td>\n",
       "      <td>academic degree computer science business info...</td>\n",
       "      <td>in your new position you want to be part of a ...</td>\n",
       "      <td>information technology--data processing/hardwa...</td>\n",
       "      <td>information technology</td>\n",
       "      <td>information_technology</td>\n",
       "    </tr>\n",
       "    <tr>\n",
       "      <th>4</th>\n",
       "      <td>5</td>\n",
       "      <td>head of technical product management brake sys...</td>\n",
       "      <td>degree in engineering with mechanical engineer...</td>\n",
       "      <td>identification of new and innovative product i...</td>\n",
       "      <td>marketing and sales--other,project management-...</td>\n",
       "      <td>marketing and sales</td>\n",
       "      <td>marketing_and_sales</td>\n",
       "    </tr>\n",
       "  </tbody>\n",
       "</table>\n",
       "</div>"
      ],
      "text/plain": [
       "   id                                       job_title_en  \\\n",
       "0   1               engineering applications it analyst    \n",
       "1   2       ebusiness manager  focus online applications   \n",
       "2   3          ebusiness manager  focus online marketing   \n",
       "3   4                       specialist software services   \n",
       "4   5  head of technical product management brake sys...   \n",
       "\n",
       "                                  job_requirement_en  \\\n",
       "0  bachelor degree in computer science engineerin...   \n",
       "1  university degree in business administration b...   \n",
       "2  university degree in business administration b...   \n",
       "3  academic degree computer science business info...   \n",
       "4  degree in engineering with mechanical engineer...   \n",
       "\n",
       "                                  job_description_en  \\\n",
       "0  development of new tools and change of existin...   \n",
       "1  you are the central key user for web-based onl...   \n",
       "2  you are resonpisble for visibility and attract...   \n",
       "3  in your new position you want to be part of a ...   \n",
       "4  identification of new and innovative product i...   \n",
       "\n",
       "                                        job_category                job_area  \\\n",
       "0  information technology--data processing/hardwa...  information technology   \n",
       "1  project management--planning and organization,...      project management   \n",
       "2  marketing and sales--marketing,project managem...     marketing and sales   \n",
       "3  information technology--data processing/hardwa...  information technology   \n",
       "4  marketing and sales--other,project management-...     marketing and sales   \n",
       "\n",
       "         job_area_oneword  \n",
       "0  information_technology  \n",
       "1      project_management  \n",
       "2     marketing_and_sales  \n",
       "3  information_technology  \n",
       "4     marketing_and_sales  "
      ]
     },
     "execution_count": 125,
     "metadata": {},
     "output_type": "execute_result"
    }
   ],
   "source": [
    "data.head()"
   ]
  },
  {
   "cell_type": "code",
   "execution_count": 128,
   "metadata": {},
   "outputs": [],
   "source": [
    "job_area_oneword_counter = Counter(data.job_area_oneword.astype(str))"
   ]
  },
  {
   "cell_type": "code",
   "execution_count": 134,
   "metadata": {},
   "outputs": [
    {
     "data": {
      "text/plain": [
       "[('engineering', 1865),\n",
       " ('research_and_development', 931),\n",
       " ('quality', 443),\n",
       " ('marketing_and_sales', 439),\n",
       " ('information_technology', 373),\n",
       " ('finance_and_controlling', 373),\n",
       " ('project_management', 317),\n",
       " ('human_resources', 291),\n",
       " ('logistics', 261),\n",
       " ('purchasing', 256),\n",
       " ('manufacturing_operations_and_production', 208),\n",
       " ('industrial_engineering', 183),\n",
       " ('administration_and_assistance', 158),\n",
       " ('key_account_management', 67),\n",
       " ('communications', 62),\n",
       " ('None', 32),\n",
       " ('law_patents_and_licences', 27),\n",
       " ('facility_management', 26),\n",
       " ('management', 25),\n",
       " ('health_safety_and_security', 24)]"
      ]
     },
     "execution_count": 134,
     "metadata": {},
     "output_type": "execute_result"
    }
   ],
   "source": [
    "# 20 most common job_area\n",
    "\n",
    "job_area_oneword_counter.most_common(20)"
   ]
  },
  {
   "cell_type": "markdown",
   "metadata": {},
   "source": [
    "### Extract job_rank (lead, senior, group lead, team leader, assistant)"
   ]
  },
  {
   "cell_type": "code",
   "execution_count": 135,
   "metadata": {},
   "outputs": [],
   "source": [
    "ranks = ['manager', 'specialist', 'head', 'coach', 'assistant', \n",
    "        'expert', 'lead', 'senior', 'junior', 'director', 'supervisor']"
   ]
  },
  {
   "cell_type": "code",
   "execution_count": null,
   "metadata": {},
   "outputs": [],
   "source": [
    "# create column job_rank that extract ranks from job_title_en if job_title_en contain any word in the ranks list\n",
    "# if no matching word from ranks list is found, then the job_rank should be None"
   ]
  },
  {
   "cell_type": "code",
   "execution_count": 136,
   "metadata": {},
   "outputs": [],
   "source": [
    "data['job_rank'] = None"
   ]
  },
  {
   "cell_type": "code",
   "execution_count": 139,
   "metadata": {},
   "outputs": [],
   "source": [
    "for i in ranks:\n",
    "    data.loc[data.job_title_en.str.contains(i,na=False),'job_rank'] = i"
   ]
  },
  {
   "cell_type": "code",
   "execution_count": 142,
   "metadata": {},
   "outputs": [
    {
     "data": {
      "text/plain": [
       "True     3297\n",
       "False    3175\n",
       "Name: job_rank, dtype: int64"
      ]
     },
     "execution_count": 142,
     "metadata": {},
     "output_type": "execute_result"
    }
   ],
   "source": [
    "data.job_rank.isnull().value_counts()"
   ]
  },
  {
   "cell_type": "code",
   "execution_count": 145,
   "metadata": {},
   "outputs": [
    {
     "data": {
      "text/html": [
       "<div>\n",
       "<style scoped>\n",
       "    .dataframe tbody tr th:only-of-type {\n",
       "        vertical-align: middle;\n",
       "    }\n",
       "\n",
       "    .dataframe tbody tr th {\n",
       "        vertical-align: top;\n",
       "    }\n",
       "\n",
       "    .dataframe thead th {\n",
       "        text-align: right;\n",
       "    }\n",
       "</style>\n",
       "<table border=\"1\" class=\"dataframe\">\n",
       "  <thead>\n",
       "    <tr style=\"text-align: right;\">\n",
       "      <th></th>\n",
       "      <th>id</th>\n",
       "      <th>job_title_en</th>\n",
       "      <th>job_requirement_en</th>\n",
       "      <th>job_description_en</th>\n",
       "      <th>job_category</th>\n",
       "      <th>job_area</th>\n",
       "      <th>job_area_oneword</th>\n",
       "      <th>job_rank</th>\n",
       "    </tr>\n",
       "  </thead>\n",
       "  <tbody>\n",
       "    <tr>\n",
       "      <th>0</th>\n",
       "      <td>1</td>\n",
       "      <td>engineering applications it analyst</td>\n",
       "      <td>bachelor degree in computer science engineerin...</td>\n",
       "      <td>development of new tools and change of existin...</td>\n",
       "      <td>information technology--data processing/hardwa...</td>\n",
       "      <td>information technology</td>\n",
       "      <td>information_technology</td>\n",
       "      <td>None</td>\n",
       "    </tr>\n",
       "    <tr>\n",
       "      <th>1</th>\n",
       "      <td>2</td>\n",
       "      <td>ebusiness manager  focus online applications</td>\n",
       "      <td>university degree in business administration b...</td>\n",
       "      <td>you are the central key user for web-based onl...</td>\n",
       "      <td>project management--planning and organization,...</td>\n",
       "      <td>project management</td>\n",
       "      <td>project_management</td>\n",
       "      <td>manager</td>\n",
       "    </tr>\n",
       "    <tr>\n",
       "      <th>2</th>\n",
       "      <td>3</td>\n",
       "      <td>ebusiness manager  focus online marketing</td>\n",
       "      <td>university degree in business administration b...</td>\n",
       "      <td>you are resonpisble for visibility and attract...</td>\n",
       "      <td>marketing and sales--marketing,project managem...</td>\n",
       "      <td>marketing and sales</td>\n",
       "      <td>marketing_and_sales</td>\n",
       "      <td>manager</td>\n",
       "    </tr>\n",
       "    <tr>\n",
       "      <th>3</th>\n",
       "      <td>4</td>\n",
       "      <td>specialist software services</td>\n",
       "      <td>academic degree computer science business info...</td>\n",
       "      <td>in your new position you want to be part of a ...</td>\n",
       "      <td>information technology--data processing/hardwa...</td>\n",
       "      <td>information technology</td>\n",
       "      <td>information_technology</td>\n",
       "      <td>specialist</td>\n",
       "    </tr>\n",
       "    <tr>\n",
       "      <th>4</th>\n",
       "      <td>5</td>\n",
       "      <td>head of technical product management brake sys...</td>\n",
       "      <td>degree in engineering with mechanical engineer...</td>\n",
       "      <td>identification of new and innovative product i...</td>\n",
       "      <td>marketing and sales--other,project management-...</td>\n",
       "      <td>marketing and sales</td>\n",
       "      <td>marketing_and_sales</td>\n",
       "      <td>head</td>\n",
       "    </tr>\n",
       "  </tbody>\n",
       "</table>\n",
       "</div>"
      ],
      "text/plain": [
       "   id                                       job_title_en  \\\n",
       "0   1               engineering applications it analyst    \n",
       "1   2       ebusiness manager  focus online applications   \n",
       "2   3          ebusiness manager  focus online marketing   \n",
       "3   4                       specialist software services   \n",
       "4   5  head of technical product management brake sys...   \n",
       "\n",
       "                                  job_requirement_en  \\\n",
       "0  bachelor degree in computer science engineerin...   \n",
       "1  university degree in business administration b...   \n",
       "2  university degree in business administration b...   \n",
       "3  academic degree computer science business info...   \n",
       "4  degree in engineering with mechanical engineer...   \n",
       "\n",
       "                                  job_description_en  \\\n",
       "0  development of new tools and change of existin...   \n",
       "1  you are the central key user for web-based onl...   \n",
       "2  you are resonpisble for visibility and attract...   \n",
       "3  in your new position you want to be part of a ...   \n",
       "4  identification of new and innovative product i...   \n",
       "\n",
       "                                        job_category                job_area  \\\n",
       "0  information technology--data processing/hardwa...  information technology   \n",
       "1  project management--planning and organization,...      project management   \n",
       "2  marketing and sales--marketing,project managem...     marketing and sales   \n",
       "3  information technology--data processing/hardwa...  information technology   \n",
       "4  marketing and sales--other,project management-...     marketing and sales   \n",
       "\n",
       "         job_area_oneword    job_rank  \n",
       "0  information_technology        None  \n",
       "1      project_management     manager  \n",
       "2     marketing_and_sales     manager  \n",
       "3  information_technology  specialist  \n",
       "4     marketing_and_sales        head  "
      ]
     },
     "execution_count": 145,
     "metadata": {},
     "output_type": "execute_result"
    }
   ],
   "source": [
    "data.head()"
   ]
  },
  {
   "cell_type": "markdown",
   "metadata": {},
   "source": [
    "### Extract degree and experience information from job_requirement_en"
   ]
  },
  {
   "cell_type": "code",
   "execution_count": null,
   "metadata": {},
   "outputs": [],
   "source": [
    "# job_requirement_en column contains null type values"
   ]
  },
  {
   "cell_type": "code",
   "execution_count": 15,
   "metadata": {},
   "outputs": [
    {
     "data": {
      "text/plain": [
       "False    6457\n",
       "True       15\n",
       "Name: job_requirement_en, dtype: int64"
      ]
     },
     "execution_count": 15,
     "metadata": {},
     "output_type": "execute_result"
    }
   ],
   "source": [
    "data.job_requirement_en.isnull().value_counts()"
   ]
  },
  {
   "cell_type": "code",
   "execution_count": 50,
   "metadata": {},
   "outputs": [],
   "source": [
    "# job_requirement_en column contains entries that only one or two words, such as\n",
    "# - \"tbd\", \"missing\", \"x\" , \"dd\", \"ot\", \n",
    "# \"xxx\",\"vv\",\"xx\",\"s\",\"bb\" \"d\", \"cf epr\", \"see above\""
   ]
  },
  {
   "cell_type": "code",
   "execution_count": 53,
   "metadata": {},
   "outputs": [
    {
     "data": {
      "text/plain": [
       "405"
      ]
     },
     "execution_count": 53,
     "metadata": {},
     "output_type": "execute_result"
    }
   ],
   "source": [
    "data[data.job_requirement_en.str.split(\" \").str.len() < 3].shape[0]"
   ]
  },
  {
   "cell_type": "code",
   "execution_count": 16,
   "metadata": {},
   "outputs": [],
   "source": [
    "# replacing these entries with None"
   ]
  },
  {
   "cell_type": "code",
   "execution_count": 52,
   "metadata": {},
   "outputs": [],
   "source": [
    "data.loc[data.job_requirement_en.isnull(),'job_requirement_en'] = None"
   ]
  },
  {
   "cell_type": "code",
   "execution_count": 54,
   "metadata": {},
   "outputs": [],
   "source": [
    "data.loc[data.job_requirement_en.str.split(\" \").str.len() < 3,'job_requirement_en'] = None"
   ]
  },
  {
   "cell_type": "code",
   "execution_count": 55,
   "metadata": {},
   "outputs": [
    {
     "data": {
      "text/plain": [
       "False    6052\n",
       "True      420\n",
       "Name: job_requirement_en, dtype: int64"
      ]
     },
     "execution_count": 55,
     "metadata": {},
     "output_type": "execute_result"
    }
   ],
   "source": [
    "data.job_requirement_en.isnull().value_counts()"
   ]
  },
  {
   "cell_type": "code",
   "execution_count": 160,
   "metadata": {},
   "outputs": [],
   "source": [
    "degrees = ['bachelor','bachelors','university','master','doctor','doctorate','doctoral']"
   ]
  },
  {
   "cell_type": "code",
   "execution_count": 161,
   "metadata": {},
   "outputs": [],
   "source": [
    "# create column job_degree that extract degree requirements from job_requirement_en \n",
    "# if job_requirement_en contain any word in the degrees list\n",
    "# if no matching word from degrees list is found, then the job_degree should be None"
   ]
  },
  {
   "cell_type": "code",
   "execution_count": 162,
   "metadata": {},
   "outputs": [],
   "source": [
    "data['job_degree'] = None"
   ]
  },
  {
   "cell_type": "code",
   "execution_count": 163,
   "metadata": {},
   "outputs": [],
   "source": [
    "for c in degrees:\n",
    "    data.loc[data.job_requirement_en.str.contains(c,na=False),'job_degree'] = c"
   ]
  },
  {
   "cell_type": "code",
   "execution_count": 165,
   "metadata": {},
   "outputs": [
    {
     "data": {
      "text/plain": [
       "True     5192\n",
       "False    1280\n",
       "Name: job_degree, dtype: int64"
      ]
     },
     "execution_count": 165,
     "metadata": {},
     "output_type": "execute_result"
    }
   ],
   "source": [
    "data.job_degree.isnull().value_counts()"
   ]
  },
  {
   "cell_type": "code",
   "execution_count": 184,
   "metadata": {},
   "outputs": [
    {
     "data": {
      "text/html": [
       "<div>\n",
       "<style scoped>\n",
       "    .dataframe tbody tr th:only-of-type {\n",
       "        vertical-align: middle;\n",
       "    }\n",
       "\n",
       "    .dataframe tbody tr th {\n",
       "        vertical-align: top;\n",
       "    }\n",
       "\n",
       "    .dataframe thead th {\n",
       "        text-align: right;\n",
       "    }\n",
       "</style>\n",
       "<table border=\"1\" class=\"dataframe\">\n",
       "  <thead>\n",
       "    <tr style=\"text-align: right;\">\n",
       "      <th></th>\n",
       "      <th>id</th>\n",
       "      <th>job_title_en</th>\n",
       "      <th>job_requirement_en</th>\n",
       "      <th>job_description_en</th>\n",
       "      <th>job_category</th>\n",
       "      <th>job_area</th>\n",
       "      <th>job_area_oneword</th>\n",
       "      <th>job_rank</th>\n",
       "      <th>job_degree</th>\n",
       "    </tr>\n",
       "  </thead>\n",
       "  <tbody>\n",
       "    <tr>\n",
       "      <th>0</th>\n",
       "      <td>1</td>\n",
       "      <td>engineering applications it analyst</td>\n",
       "      <td>bachelor degree in computer science engineerin...</td>\n",
       "      <td>development of new tools and change of existin...</td>\n",
       "      <td>information technology--data processing/hardwa...</td>\n",
       "      <td>information technology</td>\n",
       "      <td>information_technology</td>\n",
       "      <td>None</td>\n",
       "      <td>bachelor</td>\n",
       "    </tr>\n",
       "    <tr>\n",
       "      <th>1</th>\n",
       "      <td>2</td>\n",
       "      <td>ebusiness manager  focus online applications</td>\n",
       "      <td>university degree in business administration b...</td>\n",
       "      <td>you are the central key user for web-based onl...</td>\n",
       "      <td>project management--planning and organization,...</td>\n",
       "      <td>project management</td>\n",
       "      <td>project_management</td>\n",
       "      <td>manager</td>\n",
       "      <td>university</td>\n",
       "    </tr>\n",
       "    <tr>\n",
       "      <th>2</th>\n",
       "      <td>3</td>\n",
       "      <td>ebusiness manager  focus online marketing</td>\n",
       "      <td>university degree in business administration b...</td>\n",
       "      <td>you are resonpisble for visibility and attract...</td>\n",
       "      <td>marketing and sales--marketing,project managem...</td>\n",
       "      <td>marketing and sales</td>\n",
       "      <td>marketing_and_sales</td>\n",
       "      <td>manager</td>\n",
       "      <td>university</td>\n",
       "    </tr>\n",
       "    <tr>\n",
       "      <th>3</th>\n",
       "      <td>4</td>\n",
       "      <td>specialist software services</td>\n",
       "      <td>academic degree computer science business info...</td>\n",
       "      <td>in your new position you want to be part of a ...</td>\n",
       "      <td>information technology--data processing/hardwa...</td>\n",
       "      <td>information technology</td>\n",
       "      <td>information_technology</td>\n",
       "      <td>specialist</td>\n",
       "      <td>None</td>\n",
       "    </tr>\n",
       "    <tr>\n",
       "      <th>4</th>\n",
       "      <td>5</td>\n",
       "      <td>head of technical product management brake sys...</td>\n",
       "      <td>degree in engineering with mechanical engineer...</td>\n",
       "      <td>identification of new and innovative product i...</td>\n",
       "      <td>marketing and sales--other,project management-...</td>\n",
       "      <td>marketing and sales</td>\n",
       "      <td>marketing_and_sales</td>\n",
       "      <td>head</td>\n",
       "      <td>master</td>\n",
       "    </tr>\n",
       "  </tbody>\n",
       "</table>\n",
       "</div>"
      ],
      "text/plain": [
       "   id                                       job_title_en  \\\n",
       "0   1               engineering applications it analyst    \n",
       "1   2       ebusiness manager  focus online applications   \n",
       "2   3          ebusiness manager  focus online marketing   \n",
       "3   4                       specialist software services   \n",
       "4   5  head of technical product management brake sys...   \n",
       "\n",
       "                                  job_requirement_en  \\\n",
       "0  bachelor degree in computer science engineerin...   \n",
       "1  university degree in business administration b...   \n",
       "2  university degree in business administration b...   \n",
       "3  academic degree computer science business info...   \n",
       "4  degree in engineering with mechanical engineer...   \n",
       "\n",
       "                                  job_description_en  \\\n",
       "0  development of new tools and change of existin...   \n",
       "1  you are the central key user for web-based onl...   \n",
       "2  you are resonpisble for visibility and attract...   \n",
       "3  in your new position you want to be part of a ...   \n",
       "4  identification of new and innovative product i...   \n",
       "\n",
       "                                        job_category                job_area  \\\n",
       "0  information technology--data processing/hardwa...  information technology   \n",
       "1  project management--planning and organization,...      project management   \n",
       "2  marketing and sales--marketing,project managem...     marketing and sales   \n",
       "3  information technology--data processing/hardwa...  information technology   \n",
       "4  marketing and sales--other,project management-...     marketing and sales   \n",
       "\n",
       "         job_area_oneword    job_rank  job_degree  \n",
       "0  information_technology        None    bachelor  \n",
       "1      project_management     manager  university  \n",
       "2     marketing_and_sales     manager  university  \n",
       "3  information_technology  specialist        None  \n",
       "4     marketing_and_sales        head      master  "
      ]
     },
     "execution_count": 184,
     "metadata": {},
     "output_type": "execute_result"
    }
   ],
   "source": [
    "data.head()"
   ]
  },
  {
   "cell_type": "code",
   "execution_count": null,
   "metadata": {},
   "outputs": [],
   "source": []
  },
  {
   "cell_type": "code",
   "execution_count": null,
   "metadata": {},
   "outputs": [],
   "source": []
  },
  {
   "cell_type": "code",
   "execution_count": null,
   "metadata": {},
   "outputs": [],
   "source": []
  },
  {
   "cell_type": "code",
   "execution_count": null,
   "metadata": {},
   "outputs": [],
   "source": []
  },
  {
   "cell_type": "code",
   "execution_count": null,
   "metadata": {},
   "outputs": [],
   "source": []
  },
  {
   "cell_type": "code",
   "execution_count": null,
   "metadata": {},
   "outputs": [],
   "source": []
  },
  {
   "cell_type": "code",
   "execution_count": null,
   "metadata": {},
   "outputs": [],
   "source": []
  },
  {
   "cell_type": "code",
   "execution_count": null,
   "metadata": {},
   "outputs": [],
   "source": []
  }
 ],
 "metadata": {
  "kernelspec": {
   "display_name": "Python 3",
   "language": "python",
   "name": "python3"
  },
  "language_info": {
   "codemirror_mode": {
    "name": "ipython",
    "version": 3
   },
   "file_extension": ".py",
   "mimetype": "text/x-python",
   "name": "python",
   "nbconvert_exporter": "python",
   "pygments_lexer": "ipython3",
   "version": "3.7.3"
  }
 },
 "nbformat": 4,
 "nbformat_minor": 2
}
